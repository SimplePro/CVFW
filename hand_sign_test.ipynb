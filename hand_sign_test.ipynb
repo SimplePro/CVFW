{
 "cells": [
  {
   "cell_type": "code",
   "execution_count": 1,
   "id": "d426602c",
   "metadata": {},
   "outputs": [],
   "source": [
    "from cvfwVer2 import CVFW_MODEL, CVFW_UPDATE"
   ]
  },
  {
   "cell_type": "code",
   "execution_count": 2,
   "id": "84aa4e71",
   "metadata": {},
   "outputs": [],
   "source": [
    "hand_model = CVFW_MODEL(dsize=(28, 28))\n",
    "\n",
    "hand_model.add_directory(class_name=\"A\", path=\"C:\\\\kimdonghwan\\\\python\\\\CVFW\\\\image\\\\train\\\\hand_sign\\\\A\")\n",
    "hand_model.add_directory(class_name=\"B\", path=\"C:\\\\kimdonghwan\\\\python\\\\CVFW\\\\image\\\\train\\\\hand_sign\\\\B\")\n",
    "hand_model.add_directory(class_name=\"C\", path=\"C:\\\\kimdonghwan\\\\python\\\\CVFW\\\\image\\\\train\\\\hand_sign\\\\C\")\n",
    "hand_model.add_directory(class_name=\"D\", path=\"C:\\\\kimdonghwan\\\\python\\\\CVFW\\\\image\\\\train\\\\hand_sign\\\\D\")"
   ]
  },
  {
   "cell_type": "code",
   "execution_count": 3,
   "id": "d9a94c01",
   "metadata": {},
   "outputs": [
    {
     "name": "stderr",
     "output_type": "stream",
     "text": [
      "A: 100%|████████████████████████████████████████████████████████████████████████████| 784/784 [00:01<00:00, 476.34it/s]\n",
      "B: 100%|████████████████████████████████████████████████████████████████████████████| 784/784 [00:01<00:00, 527.82it/s]\n",
      "C: 100%|████████████████████████████████████████████████████████████████████████████| 784/784 [00:01<00:00, 456.12it/s]\n",
      "D: 100%|████████████████████████████████████████████████████████████████████████████| 784/784 [00:01<00:00, 452.46it/s]\n"
     ]
    }
   ],
   "source": [
    "hand_model.train()"
   ]
  },
  {
   "cell_type": "code",
   "execution_count": 4,
   "id": "63b15221",
   "metadata": {},
   "outputs": [
    {
     "name": "stdout",
     "output_type": "stream",
     "text": [
      "feature_group_number: 5, feature_weight_nummber: 80 Done!, accuracy: 0.6342943854324734\n",
      "feature_group_number: 5, feature_weight_nummber: 120 Done!, accuracy: 0.5910470409711684\n",
      "feature_group_number: 5, feature_weight_nummber: 300 Done!, accuracy: 0.30652503793626706\n",
      "feature_group_number: 3000, feature_weight_nummber: 80 Done!, accuracy: 0.6342943854324734\n",
      "feature_group_number: 3000, feature_weight_nummber: 120 Done!, accuracy: 0.5910470409711684\n",
      "feature_group_number: 3000, feature_weight_nummber: 300 Done!, accuracy: 0.30652503793626706\n"
     ]
    }
   ],
   "source": [
    "cvfw_update = CVFW_UPDATE(hand_model, feature_group_number = [5, 3000], feature_weight_number = [80, 120, 300])\n",
    "cvfw_update.add_validation(class_name=\"A\", path=\"C:\\\\kimdonghwan\\\\python\\\\CVFW\\\\image\\\\test\\\\hand_sign\\\\A\")\n",
    "cvfw_update.add_validation(class_name=\"B\", path=\"C:\\\\kimdonghwan\\\\python\\\\CVFW\\\\image\\\\test\\\\hand_sign\\\\B\")\n",
    "cvfw_update.add_validation(class_name=\"C\", path=\"C:\\\\kimdonghwan\\\\python\\\\CVFW\\\\image\\\\test\\\\hand_sign\\\\C\")\n",
    "cvfw_update.add_validation(class_name=\"D\", path=\"C:\\\\kimdonghwan\\\\python\\\\CVFW\\\\image\\\\test\\\\hand_sign\\\\D\")\n",
    "cvfw_update.update()"
   ]
  },
  {
   "cell_type": "code",
   "execution_count": 5,
   "id": "5dbb7209",
   "metadata": {},
   "outputs": [
    {
     "name": "stdout",
     "output_type": "stream",
     "text": [
      "feature_group_number: 500, feature_weight_nummber: 40 Done!, accuracy: 0.6851289833080425\n",
      "feature_group_number: 500, feature_weight_nummber: 65 Done!, accuracy: 0.6593323216995448\n",
      "feature_group_number: 500, feature_weight_nummber: 80 Done!, accuracy: 0.6342943854324734\n",
      "feature_group_number: 3000, feature_weight_nummber: 40 Done!, accuracy: 0.6851289833080425\n",
      "feature_group_number: 3000, feature_weight_nummber: 65 Done!, accuracy: 0.6593323216995448\n",
      "feature_group_number: 3000, feature_weight_nummber: 80 Done!, accuracy: 0.6342943854324734\n"
     ]
    }
   ],
   "source": [
    "cvfw_update.set(feature_group_number = [500, 3000], feature_weight_number = [40, 65, 80])\n",
    "cvfw_update.update()"
   ]
  },
  {
   "cell_type": "code",
   "execution_count": 6,
   "id": "126a98a2",
   "metadata": {
    "scrolled": false
   },
   "outputs": [
    {
     "name": "stdout",
     "output_type": "stream",
     "text": [
      "feature_group_number: 50, feature_weight_nummber: 0 Done!, accuracy: 0.56752655538695\n",
      "feature_group_number: 50, feature_weight_nummber: 20 Done!, accuracy: 0.8012139605462822\n",
      "feature_group_number: 50, feature_weight_nummber: 40 Done!, accuracy: 0.6851289833080425\n",
      "feature_group_number: 100, feature_weight_nummber: 0 Done!, accuracy: 0.49241274658573597\n",
      "feature_group_number: 100, feature_weight_nummber: 20 Done!, accuracy: 0.8012139605462822\n",
      "feature_group_number: 100, feature_weight_nummber: 40 Done!, accuracy: 0.6851289833080425\n",
      "feature_group_number: 250, feature_weight_nummber: 0 Done!, accuracy: 0.4795144157814871\n",
      "feature_group_number: 250, feature_weight_nummber: 20 Done!, accuracy: 0.8012139605462822\n",
      "feature_group_number: 250, feature_weight_nummber: 40 Done!, accuracy: 0.6851289833080425\n"
     ]
    }
   ],
   "source": [
    "cvfw_update.set(feature_group_number = [50, 100, 250], feature_weight_number = [0, 20, 40])\n",
    "cvfw_update.update()"
   ]
  },
  {
   "cell_type": "code",
   "execution_count": 7,
   "id": "906c6252",
   "metadata": {},
   "outputs": [
    {
     "name": "stdout",
     "output_type": "stream",
     "text": [
      "feature_group_number: 10, feature_weight_nummber: 18 Done!, accuracy: 0.8330804248861912\n",
      "feature_group_number: 15, feature_weight_nummber: 18 Done!, accuracy: 0.8254931714719271\n"
     ]
    }
   ],
   "source": [
    "cvfw_update.set(feature_group_number = [10, 15], feature_weight_number = [18])\n",
    "cvfw_update.update()"
   ]
  },
  {
   "cell_type": "code",
   "execution_count": 8,
   "id": "b18c283c",
   "metadata": {},
   "outputs": [
    {
     "name": "stdout",
     "output_type": "stream",
     "text": [
      "feature_group_number: 1, feature_weight_nummber: 16 Done!, accuracy: 0.669195751138088\n",
      "feature_group_number: 1, feature_weight_nummber: 17 Done!, accuracy: 0.669195751138088\n",
      "feature_group_number: 1, feature_weight_nummber: 18 Done!, accuracy: 0.669195751138088\n",
      "feature_group_number: 1, feature_weight_nummber: 19 Done!, accuracy: 0.669195751138088\n",
      "feature_group_number: 5, feature_weight_nummber: 16 Done!, accuracy: 0.7966616084977238\n",
      "feature_group_number: 5, feature_weight_nummber: 17 Done!, accuracy: 0.7966616084977238\n",
      "feature_group_number: 5, feature_weight_nummber: 18 Done!, accuracy: 0.8042488619119879\n",
      "feature_group_number: 5, feature_weight_nummber: 19 Done!, accuracy: 0.7852807283763278\n",
      "feature_group_number: 8, feature_weight_nummber: 16 Done!, accuracy: 0.8133535660091047\n",
      "feature_group_number: 8, feature_weight_nummber: 17 Done!, accuracy: 0.8156297420333839\n",
      "feature_group_number: 8, feature_weight_nummber: 18 Done!, accuracy: 0.8323216995447648\n",
      "feature_group_number: 8, feature_weight_nummber: 19 Done!, accuracy: 0.8141122913505311\n"
     ]
    }
   ],
   "source": [
    "cvfw_update.set(feature_group_number = [1, 5, 8], feature_weight_number = [16, 17, 18, 19])\n",
    "cvfw_update.update()"
   ]
  },
  {
   "cell_type": "code",
   "execution_count": 9,
   "id": "710df116",
   "metadata": {
    "scrolled": true
   },
   "outputs": [
    {
     "name": "stdout",
     "output_type": "stream",
     "text": [
      "feature_group_number: 250, feature_weight_nummber: 20 Done!, accuracy: 0.8012139605462822\n",
      "feature_group_number: 250, feature_weight_nummber: 25 Done!, accuracy: 0.7966616084977238\n",
      "feature_group_number: 250, feature_weight_nummber: 30 Done!, accuracy: 0.7488619119878603\n",
      "feature_group_number: 300, feature_weight_nummber: 20 Done!, accuracy: 0.8012139605462822\n",
      "feature_group_number: 300, feature_weight_nummber: 25 Done!, accuracy: 0.7966616084977238\n",
      "feature_group_number: 300, feature_weight_nummber: 30 Done!, accuracy: 0.7488619119878603\n",
      "feature_group_number: 350, feature_weight_nummber: 20 Done!, accuracy: 0.8012139605462822\n",
      "feature_group_number: 350, feature_weight_nummber: 25 Done!, accuracy: 0.7966616084977238\n",
      "feature_group_number: 350, feature_weight_nummber: 30 Done!, accuracy: 0.7488619119878603\n"
     ]
    }
   ],
   "source": [
    "cvfw_update.set(feature_group_number = [250, 300, 350], feature_weight_number = [20, 25, 30])\n",
    "cvfw_update.update()"
   ]
  },
  {
   "cell_type": "code",
   "execution_count": 10,
   "id": "1aabfe95",
   "metadata": {},
   "outputs": [
    {
     "name": "stdout",
     "output_type": "stream",
     "text": [
      "feature_group_number: 250, feature_weight_nummber: 15 Done!, accuracy: 0.8125948406676783\n",
      "feature_group_number: 250, feature_weight_nummber: 20 Done!, accuracy: 0.8012139605462822\n",
      "feature_group_number: 250, feature_weight_nummber: 25 Done!, accuracy: 0.7966616084977238\n",
      "feature_group_number: 273, feature_weight_nummber: 15 Done!, accuracy: 0.8125948406676783\n",
      "feature_group_number: 273, feature_weight_nummber: 20 Done!, accuracy: 0.8012139605462822\n",
      "feature_group_number: 273, feature_weight_nummber: 25 Done!, accuracy: 0.7966616084977238\n",
      "feature_group_number: 296, feature_weight_nummber: 15 Done!, accuracy: 0.8125948406676783\n",
      "feature_group_number: 296, feature_weight_nummber: 20 Done!, accuracy: 0.8012139605462822\n",
      "feature_group_number: 296, feature_weight_nummber: 25 Done!, accuracy: 0.7966616084977238\n"
     ]
    }
   ],
   "source": [
    "cvfw_update.set(feature_group_number = [250, 273, 296], feature_weight_number = [15, 20, 25])\n",
    "cvfw_update.update()"
   ]
  },
  {
   "cell_type": "code",
   "execution_count": 11,
   "id": "1b7b4b37",
   "metadata": {},
   "outputs": [
    {
     "name": "stdout",
     "output_type": "stream",
     "text": [
      "feature_group_number: 300, feature_weight_nummber: 15 Done!, accuracy: 0.8125948406676783\n",
      "feature_group_number: 300, feature_weight_nummber: 20 Done!, accuracy: 0.8012139605462822\n",
      "feature_group_number: 330, feature_weight_nummber: 15 Done!, accuracy: 0.8125948406676783\n",
      "feature_group_number: 330, feature_weight_nummber: 20 Done!, accuracy: 0.8012139605462822\n",
      "feature_group_number: 360, feature_weight_nummber: 15 Done!, accuracy: 0.8125948406676783\n",
      "feature_group_number: 360, feature_weight_nummber: 20 Done!, accuracy: 0.8012139605462822\n",
      "feature_group_number: 390, feature_weight_nummber: 15 Done!, accuracy: 0.8125948406676783\n",
      "feature_group_number: 390, feature_weight_nummber: 20 Done!, accuracy: 0.8012139605462822\n"
     ]
    }
   ],
   "source": [
    "cvfw_update.set(feature_group_number = [300, 330, 360, 390], feature_weight_number = [15, 20])\n",
    "cvfw_update.update()"
   ]
  },
  {
   "cell_type": "code",
   "execution_count": 12,
   "id": "e92a344c",
   "metadata": {},
   "outputs": [
    {
     "name": "stdout",
     "output_type": "stream",
     "text": [
      "feature_group_number: 300, feature_weight_nummber: 16 Done!, accuracy: 0.8179059180576631\n",
      "feature_group_number: 300, feature_weight_nummber: 17 Done!, accuracy: 0.8141122913505311\n",
      "feature_group_number: 300, feature_weight_nummber: 18 Done!, accuracy: 0.8254931714719271\n",
      "feature_group_number: 330, feature_weight_nummber: 16 Done!, accuracy: 0.8179059180576631\n",
      "feature_group_number: 330, feature_weight_nummber: 17 Done!, accuracy: 0.8141122913505311\n",
      "feature_group_number: 330, feature_weight_nummber: 18 Done!, accuracy: 0.8254931714719271\n"
     ]
    }
   ],
   "source": [
    "cvfw_update.set(feature_group_number = [300, 330], feature_weight_number = [16, 17, 18])\n",
    "cvfw_update.update()"
   ]
  },
  {
   "cell_type": "code",
   "execution_count": 13,
   "id": "02e1e8fc",
   "metadata": {},
   "outputs": [
    {
     "name": "stdout",
     "output_type": "stream",
     "text": [
      "feature_group_number: 300, feature_weight_nummber: 19 Done!, accuracy: 0.8186646433990895\n"
     ]
    }
   ],
   "source": [
    "cvfw_update.set(feature_group_number = [300], feature_weight_number = [19])\n",
    "cvfw_update.update()"
   ]
  },
  {
   "cell_type": "markdown",
   "id": "d25123b0",
   "metadata": {},
   "source": [
    "### 약 8번 업데이트했을때의 최적의 feature_group_number 와 feature_weight_number\n",
    "#### feature_group_number: 10\n",
    "#### feature_weight_number: 18"
   ]
  },
  {
   "cell_type": "markdown",
   "id": "582cc066",
   "metadata": {},
   "source": [
    "#### predict_class 메소드의 속도를 많이 향상할 시에는 가능한 모든 feature_group_number 와 feature_weight_number 를 조합하여 가장 정확도가 높은 모델로 update 하는 알고리즘으로 모델링할 수 있을 것이다.\n",
    "\n",
    "##### - predict class 메소드의 성능적 한계가 있다면 가능한 모든 feature_group_number 와 feature_weight_number 를 다 조합하지 않더라도 정확도가 높은 모델로 update 하는 알고리즘 개발이 필요할 것이다."
   ]
  },
  {
   "cell_type": "code",
   "execution_count": 14,
   "id": "7fa5be68",
   "metadata": {},
   "outputs": [
    {
     "name": "stderr",
     "output_type": "stream",
     "text": [
      "A: 100%|████████████████████████████████████████████████████████████████████████████| 784/784 [00:01<00:00, 435.00it/s]\n",
      "B: 100%|████████████████████████████████████████████████████████████████████████████| 784/784 [00:01<00:00, 493.44it/s]\n",
      "C: 100%|████████████████████████████████████████████████████████████████████████████| 784/784 [00:01<00:00, 433.10it/s]\n",
      "D: 100%|████████████████████████████████████████████████████████████████████████████| 784/784 [00:01<00:00, 434.23it/s]\n"
     ]
    }
   ],
   "source": [
    "hand_model = CVFW_MODEL(dsize=(28, 28), feature_group_number = 10, feature_weight_number = 18)\n",
    "\n",
    "hand_model.add_directory(class_name=\"A\", path=\"C:\\\\kimdonghwan\\\\python\\\\CVFW\\\\image\\\\train\\\\hand_sign\\\\A\")\n",
    "hand_model.add_directory(class_name=\"B\", path=\"C:\\\\kimdonghwan\\\\python\\\\CVFW\\\\image\\\\train\\\\hand_sign\\\\B\")\n",
    "hand_model.add_directory(class_name=\"C\", path=\"C:\\\\kimdonghwan\\\\python\\\\CVFW\\\\image\\\\train\\\\hand_sign\\\\C\")\n",
    "hand_model.add_directory(class_name=\"D\", path=\"C:\\\\kimdonghwan\\\\python\\\\CVFW\\\\image\\\\train\\\\hand_sign\\\\D\")\n",
    "\n",
    "hand_model.train()"
   ]
  },
  {
   "cell_type": "code",
   "execution_count": 15,
   "id": "66aa6cb6",
   "metadata": {},
   "outputs": [
    {
     "name": "stdout",
     "output_type": "stream",
     "text": [
      "(feature_count) / (sum count) : 0.921931951452647\n"
     ]
    },
    {
     "data": {
      "text/plain": [
       "<matplotlib.image.AxesImage at 0x2788454f760>"
      ]
     },
     "execution_count": 15,
     "metadata": {},
     "output_type": "execute_result"
    },
    {
     "data": {
      "image/png": "[encoded data removed]",
      "text/plain": [
       "<Figure size 432x288 with 1 Axes>"
      ]
     },
     "metadata": {
      "needs_background": "light"
     },
     "output_type": "display_data"
    }
   ],
   "source": [
    "import matplotlib.pyplot as plt\n",
    "\n",
    "A_img = hand_model.modeling(class_name=\"A\")\n",
    "plt.imshow(A_img, cmap=\"gray\")"
   ]
  },
  {
   "cell_type": "code",
   "execution_count": 16,
   "id": "0ea3590e",
   "metadata": {},
   "outputs": [
    {
     "name": "stdout",
     "output_type": "stream",
     "text": [
      "(feature_count) / (sum count) : 0.8226478929775476\n"
     ]
    },
    {
     "data": {
      "text/plain": [
       "<matplotlib.image.AxesImage at 0x27884658490>"
      ]
     },
     "execution_count": 16,
     "metadata": {},
     "output_type": "execute_result"
    },
    {
     "data": {
      "image/png": "[encoded data removed]",
      "text/plain": [
       "<Figure size 432x288 with 1 Axes>"
      ]
     },
     "metadata": {
      "needs_background": "light"
     },
     "output_type": "display_data"
    }
   ],
   "source": [
    "B_img = hand_model.modeling(class_name='B')\n",
    "plt.imshow(B_img, cmap=\"gray\")"
   ]
  },
  {
   "cell_type": "code",
   "execution_count": 17,
   "id": "0b937f15",
   "metadata": {},
   "outputs": [
    {
     "name": "stdout",
     "output_type": "stream",
     "text": [
      "(feature_count) / (sum count) : 0.877221661628565\n"
     ]
    },
    {
     "data": {
      "text/plain": [
       "<matplotlib.image.AxesImage at 0x278846bbbe0>"
      ]
     },
     "execution_count": 17,
     "metadata": {},
     "output_type": "execute_result"
    },
    {
     "data": {
      "image/png": "[encoded data removed]",
      "text/plain": [
       "<Figure size 432x288 with 1 Axes>"
      ]
     },
     "metadata": {
      "needs_background": "light"
     },
     "output_type": "display_data"
    }
   ],
   "source": [
    "C_img = hand_model.modeling(class_name=\"C\")\n",
    "plt.imshow(C_img, cmap=\"gray\")"
   ]
  },
  {
   "cell_type": "code",
   "execution_count": 18,
   "id": "475da438",
   "metadata": {},
   "outputs": [
    {
     "name": "stdout",
     "output_type": "stream",
     "text": [
      "(feature_count) / (sum count) : 0.868075414425759\n"
     ]
    },
    {
     "data": {
      "text/plain": [
       "<matplotlib.image.AxesImage at 0x27884725280>"
      ]
     },
     "execution_count": 18,
     "metadata": {},
     "output_type": "execute_result"
    },
    {
     "data": {
      "image/png": "[encoded data removed]",
      "text/plain": [
       "<Figure size 432x288 with 1 Axes>"
      ]
     },
     "metadata": {
      "needs_background": "light"
     },
     "output_type": "display_data"
    }
   ],
   "source": [
    "D_img = hand_model.modeling(class_name = \"D\")\n",
    "plt.imshow(D_img, cmap=\"gray\")"
   ]
  },
  {
   "cell_type": "code",
   "execution_count": 19,
   "id": "cd30ccbf",
   "metadata": {},
   "outputs": [
    {
     "name": "stdout",
     "output_type": "stream",
     "text": [
      "[0.2054572605002852, 0.24835606608098823, 0.30222093775853914, 0.24396573566018742]\n"
     ]
    },
    {
     "data": {
      "image/png": "[encoded data removed]",
      "text/plain": [
       "<Figure size 432x288 with 1 Axes>"
      ]
     },
     "metadata": {
      "needs_background": "light"
     },
     "output_type": "display_data"
    }
   ],
   "source": [
    "import cv2\n",
    "import matplotlib.pyplot as plt\n",
    "\n",
    "img = cv2.cvtColor(cv2.imread(f\"C:\\\\kimdonghwan\\\\python\\\\CVFW\\\\image\\\\test\\\\hand_sign\\\\A\\\\3_A.jpg\", 1), cv2.COLOR_BGR2GRAY)\n",
    "plt.imshow(img, cmap=\"gray\")\n",
    "\n",
    "img = cv2.resize(img, dsize=(28, 28)).flatten().tolist()\n",
    "predict = hand_model.predict_class(img)\n",
    "print(predict)\n",
    "\n",
    "# CVIW 의 predict 는 cost 비율이기 때문에 predict 값이 가장 작은 것이 예측값이다."
   ]
  },
  {
   "cell_type": "code",
   "execution_count": 20,
   "id": "9197c04e",
   "metadata": {},
   "outputs": [
    {
     "name": "stdout",
     "output_type": "stream",
     "text": [
      "[0.2545463389159446, 0.23728670524220588, 0.2676927109945348, 0.2404742448473147]\n"
     ]
    },
    {
     "data": {
      "image/png": "[encoded data removed]",
      "text/plain": [
       "<Figure size 432x288 with 1 Axes>"
      ]
     },
     "metadata": {
      "needs_background": "light"
     },
     "output_type": "display_data"
    }
   ],
   "source": [
    "img = cv2.cvtColor(cv2.imread(f\"C:\\\\kimdonghwan\\\\python\\\\CVFW\\\\image\\\\test\\\\hand_sign\\\\B\\\\66_B.jpg\", 1), cv2.COLOR_BGR2GRAY)\n",
    "plt.imshow(img, cmap=\"gray\")\n",
    "\n",
    "img = cv2.resize(img, dsize=(28, 28)).flatten().tolist()\n",
    "predict = hand_model.predict_class(img)\n",
    "print(predict)"
   ]
  },
  {
   "cell_type": "code",
   "execution_count": 21,
   "id": "c0dfbdae",
   "metadata": {},
   "outputs": [
    {
     "name": "stdout",
     "output_type": "stream",
     "text": [
      "[0.31095550443779324, 0.24730132985237793, 0.1600319882539628, 0.281711177455866]\n"
     ]
    },
    {
     "data": {
      "image/png": "[encoded data removed]",
      "text/plain": [
       "<Figure size 432x288 with 1 Axes>"
      ]
     },
     "metadata": {
      "needs_background": "light"
     },
     "output_type": "display_data"
    }
   ],
   "source": [
    "img = cv2.cvtColor(cv2.imread(f\"C:\\\\kimdonghwan\\\\python\\\\CVFW\\\\image\\\\test\\\\hand_sign\\\\C\\\\20_c.jpg\", 1), cv2.COLOR_BGR2GRAY)\n",
    "plt.imshow(img, cmap=\"gray\")\n",
    "\n",
    "img = cv2.resize(img, dsize=(28, 28)).flatten().tolist()\n",
    "predict = hand_model.predict_class(img)\n",
    "print(predict)"
   ]
  },
  {
   "cell_type": "code",
   "execution_count": 22,
   "id": "8157b923",
   "metadata": {},
   "outputs": [
    {
     "name": "stdout",
     "output_type": "stream",
     "text": [
      "[0.32702034707650873, 0.16083678072972146, 0.3555283808201385, 0.15661449137363137]\n"
     ]
    },
    {
     "data": {
      "image/png": "[encoded data removed]",
      "text/plain": [
       "<Figure size 432x288 with 1 Axes>"
      ]
     },
     "metadata": {
      "needs_background": "light"
     },
     "output_type": "display_data"
    }
   ],
   "source": [
    "img = cv2.cvtColor(cv2.imread(f\"C:\\\\kimdonghwan\\\\python\\\\CVFW\\\\image\\\\test\\\\hand_sign\\\\D\\\\37_D.jpg\", 1), cv2.COLOR_BGR2GRAY)\n",
    "plt.imshow(img, cmap=\"gray\")\n",
    "\n",
    "img = cv2.resize(img, dsize=(28, 28)).flatten().tolist()\n",
    "predict = hand_model.predict_class(img)\n",
    "print(predict)"
   ]
  },
  {
   "cell_type": "code",
   "execution_count": 1,
   "id": "31e9a1f8",
   "metadata": {},
   "outputs": [],
   "source": [
    "from cvfwVer2 import CVFW_MODEL, CVFW_UPDATE "
   ]
  },
  {
   "cell_type": "code",
   "execution_count": 9,
   "id": "c3c50bdc",
   "metadata": {},
   "outputs": [
    {
     "name": "stderr",
     "output_type": "stream",
     "text": [
      "A: 100%|████████████████████████████████████████████████████████████████████████████| 784/784 [00:01<00:00, 447.67it/s]\n"
     ]
    },
    {
     "name": "stdout",
     "output_type": "stream",
     "text": [
      "A count: 8704 "
     ]
    },
    {
     "name": "stderr",
     "output_type": "stream",
     "text": [
      "B: 100%|████████████████████████████████████████████████████████████████████████████| 784/784 [00:01<00:00, 541.86it/s]\n"
     ]
    },
    {
     "name": "stdout",
     "output_type": "stream",
     "text": [
      "B count: 8553 "
     ]
    },
    {
     "name": "stderr",
     "output_type": "stream",
     "text": [
      "C: 100%|████████████████████████████████████████████████████████████████████████████| 784/784 [00:01<00:00, 485.82it/s]\n"
     ]
    },
    {
     "name": "stdout",
     "output_type": "stream",
     "text": [
      "C count: 8832 "
     ]
    },
    {
     "name": "stderr",
     "output_type": "stream",
     "text": [
      "D: 100%|████████████████████████████████████████████████████████████████████████████| 784/784 [00:01<00:00, 445.44it/s]"
     ]
    },
    {
     "name": "stdout",
     "output_type": "stream",
     "text": [
      "D count: 8655 \n",
      "accuracy: 0.8330804248861912\n"
     ]
    },
    {
     "name": "stderr",
     "output_type": "stream",
     "text": [
      "\n"
     ]
    }
   ],
   "source": [
    "hand_model = CVFW_MODEL(dsize=(28, 28), feature_group_number = 10, feature_weight_number = 18)\n",
    "\n",
    "hand_model.add_directory(class_name=\"A\", path=\"C:\\\\kimdonghwan\\\\python\\\\CVFW\\\\image\\\\train\\\\hand_sign\\\\A\")\n",
    "hand_model.add_directory(class_name=\"B\", path=\"C:\\\\kimdonghwan\\\\python\\\\CVFW\\\\image\\\\train\\\\hand_sign\\\\B\")\n",
    "hand_model.add_directory(class_name=\"C\", path=\"C:\\\\kimdonghwan\\\\python\\\\CVFW\\\\image\\\\train\\\\hand_sign\\\\C\")\n",
    "hand_model.add_directory(class_name=\"D\", path=\"C:\\\\kimdonghwan\\\\python\\\\CVFW\\\\image\\\\train\\\\hand_sign\\\\D\")\n",
    "\n",
    "hand_model.train()\n",
    "print(\"\\naccuracy:\", 0.8330804248861912)"
   ]
  },
  {
   "cell_type": "code",
   "execution_count": 10,
   "id": "676d55a2",
   "metadata": {},
   "outputs": [
    {
     "name": "stderr",
     "output_type": "stream",
     "text": [
      "A: 100%|████████████████████████████████████████████████████████████████████████████| 784/784 [00:01<00:00, 473.46it/s]\n"
     ]
    },
    {
     "name": "stdout",
     "output_type": "stream",
     "text": [
      "A count: 1115 "
     ]
    },
    {
     "name": "stderr",
     "output_type": "stream",
     "text": [
      "B: 100%|████████████████████████████████████████████████████████████████████████████| 784/784 [00:01<00:00, 462.99it/s]\n"
     ]
    },
    {
     "name": "stdout",
     "output_type": "stream",
     "text": [
      "B count: 1048 "
     ]
    },
    {
     "name": "stderr",
     "output_type": "stream",
     "text": [
      "C: 100%|████████████████████████████████████████████████████████████████████████████| 784/784 [00:01<00:00, 459.50it/s]\n"
     ]
    },
    {
     "name": "stdout",
     "output_type": "stream",
     "text": [
      "C count: 1159 "
     ]
    },
    {
     "name": "stderr",
     "output_type": "stream",
     "text": [
      "D: 100%|████████████████████████████████████████████████████████████████████████████| 784/784 [00:01<00:00, 432.03it/s]"
     ]
    },
    {
     "name": "stdout",
     "output_type": "stream",
     "text": [
      "D count: 1294 \n",
      "accuracy: 0.30652503793626706\n"
     ]
    },
    {
     "name": "stderr",
     "output_type": "stream",
     "text": [
      "\n"
     ]
    }
   ],
   "source": [
    "hand_model = CVFW_MODEL(dsize=(28, 28), feature_group_number = 5, feature_weight_number = 300)\n",
    "\n",
    "hand_model.add_directory(class_name=\"A\", path=\"C:\\\\kimdonghwan\\\\python\\\\CVFW\\\\image\\\\train\\\\hand_sign\\\\A\")\n",
    "hand_model.add_directory(class_name=\"B\", path=\"C:\\\\kimdonghwan\\\\python\\\\CVFW\\\\image\\\\train\\\\hand_sign\\\\B\")\n",
    "hand_model.add_directory(class_name=\"C\", path=\"C:\\\\kimdonghwan\\\\python\\\\CVFW\\\\image\\\\train\\\\hand_sign\\\\C\")\n",
    "hand_model.add_directory(class_name=\"D\", path=\"C:\\\\kimdonghwan\\\\python\\\\CVFW\\\\image\\\\train\\\\hand_sign\\\\D\")\n",
    "\n",
    "hand_model.train()\n",
    "print(\"\\naccuracy:\", 0.30652503793626706)"
   ]
  },
  {
   "cell_type": "code",
   "execution_count": 11,
   "id": "3c05c4c4",
   "metadata": {},
   "outputs": [
    {
     "name": "stderr",
     "output_type": "stream",
     "text": [
      "A: 100%|████████████████████████████████████████████████████████████████████████████| 784/784 [00:01<00:00, 418.57it/s]\n"
     ]
    },
    {
     "name": "stdout",
     "output_type": "stream",
     "text": [
      "A count: 114579 "
     ]
    },
    {
     "name": "stderr",
     "output_type": "stream",
     "text": [
      "B: 100%|████████████████████████████████████████████████████████████████████████████| 784/784 [00:01<00:00, 446.70it/s]\n"
     ]
    },
    {
     "name": "stdout",
     "output_type": "stream",
     "text": [
      "B count: 120306 "
     ]
    },
    {
     "name": "stderr",
     "output_type": "stream",
     "text": [
      "C: 100%|████████████████████████████████████████████████████████████████████████████| 784/784 [00:01<00:00, 421.13it/s]\n"
     ]
    },
    {
     "name": "stdout",
     "output_type": "stream",
     "text": [
      "C count: 118139 "
     ]
    },
    {
     "name": "stderr",
     "output_type": "stream",
     "text": [
      "D: 100%|████████████████████████████████████████████████████████████████████████████| 784/784 [00:01<00:00, 396.58it/s]"
     ]
    },
    {
     "name": "stdout",
     "output_type": "stream",
     "text": [
      "D count: 124803 \n",
      "accuracy: 0.49241274658573597\n"
     ]
    },
    {
     "name": "stderr",
     "output_type": "stream",
     "text": [
      "\n"
     ]
    }
   ],
   "source": [
    "hand_model = CVFW_MODEL(dsize=(28, 28), feature_group_number = 100, feature_weight_number = 0)\n",
    "\n",
    "hand_model.add_directory(class_name=\"A\", path=\"C:\\\\kimdonghwan\\\\python\\\\CVFW\\\\image\\\\train\\\\hand_sign\\\\A\")\n",
    "hand_model.add_directory(class_name=\"B\", path=\"C:\\\\kimdonghwan\\\\python\\\\CVFW\\\\image\\\\train\\\\hand_sign\\\\B\")\n",
    "hand_model.add_directory(class_name=\"C\", path=\"C:\\\\kimdonghwan\\\\python\\\\CVFW\\\\image\\\\train\\\\hand_sign\\\\C\")\n",
    "hand_model.add_directory(class_name=\"D\", path=\"C:\\\\kimdonghwan\\\\python\\\\CVFW\\\\image\\\\train\\\\hand_sign\\\\D\")\n",
    "\n",
    "hand_model.train()\n",
    "print(\"\\naccuracy:\", 0.49241274658573597)"
   ]
  },
  {
   "cell_type": "code",
   "execution_count": 12,
   "id": "5954c6c6",
   "metadata": {},
   "outputs": [
    {
     "name": "stderr",
     "output_type": "stream",
     "text": [
      "A: 100%|████████████████████████████████████████████████████████████████████████████| 784/784 [00:01<00:00, 459.36it/s]\n"
     ]
    },
    {
     "name": "stdout",
     "output_type": "stream",
     "text": [
      "A count: 2733 "
     ]
    },
    {
     "name": "stderr",
     "output_type": "stream",
     "text": [
      "B: 100%|████████████████████████████████████████████████████████████████████████████| 784/784 [00:01<00:00, 512.13it/s]\n"
     ]
    },
    {
     "name": "stdout",
     "output_type": "stream",
     "text": [
      "B count: 2561 "
     ]
    },
    {
     "name": "stderr",
     "output_type": "stream",
     "text": [
      "C: 100%|████████████████████████████████████████████████████████████████████████████| 784/784 [00:01<00:00, 427.67it/s]\n"
     ]
    },
    {
     "name": "stdout",
     "output_type": "stream",
     "text": [
      "C count: 3187 "
     ]
    },
    {
     "name": "stderr",
     "output_type": "stream",
     "text": [
      "D: 100%|████████████████████████████████████████████████████████████████████████████| 784/784 [00:01<00:00, 427.63it/s]"
     ]
    },
    {
     "name": "stdout",
     "output_type": "stream",
     "text": [
      "D count: 3397 \n",
      "accuracy: 0.6342943854324734\n"
     ]
    },
    {
     "name": "stderr",
     "output_type": "stream",
     "text": [
      "\n"
     ]
    }
   ],
   "source": [
    "hand_model = CVFW_MODEL(dsize=(28, 28), feature_group_number = 5, feature_weight_number = 80)\n",
    "\n",
    "hand_model.add_directory(class_name=\"A\", path=\"C:\\\\kimdonghwan\\\\python\\\\CVFW\\\\image\\\\train\\\\hand_sign\\\\A\")\n",
    "hand_model.add_directory(class_name=\"B\", path=\"C:\\\\kimdonghwan\\\\python\\\\CVFW\\\\image\\\\train\\\\hand_sign\\\\B\")\n",
    "hand_model.add_directory(class_name=\"C\", path=\"C:\\\\kimdonghwan\\\\python\\\\CVFW\\\\image\\\\train\\\\hand_sign\\\\C\")\n",
    "hand_model.add_directory(class_name=\"D\", path=\"C:\\\\kimdonghwan\\\\python\\\\CVFW\\\\image\\\\train\\\\hand_sign\\\\D\")\n",
    "\n",
    "hand_model.train()\n",
    "print(\"\\naccuracy:\", 0.6342943854324734)"
   ]
  },
  {
   "cell_type": "code",
   "execution_count": 13,
   "id": "e93d41c8",
   "metadata": {},
   "outputs": [
    {
     "name": "stderr",
     "output_type": "stream",
     "text": [
      "A: 100%|████████████████████████████████████████████████████████████████████████████| 784/784 [00:01<00:00, 456.69it/s]\n"
     ]
    },
    {
     "name": "stdout",
     "output_type": "stream",
     "text": [
      "A count: 2083 "
     ]
    },
    {
     "name": "stderr",
     "output_type": "stream",
     "text": [
      "B: 100%|████████████████████████████████████████████████████████████████████████████| 784/784 [00:01<00:00, 495.01it/s]\n"
     ]
    },
    {
     "name": "stdout",
     "output_type": "stream",
     "text": [
      "B count: 1885 "
     ]
    },
    {
     "name": "stderr",
     "output_type": "stream",
     "text": [
      "C: 100%|████████████████████████████████████████████████████████████████████████████| 784/784 [00:01<00:00, 446.90it/s]\n"
     ]
    },
    {
     "name": "stdout",
     "output_type": "stream",
     "text": [
      "C count: 2380 "
     ]
    },
    {
     "name": "stderr",
     "output_type": "stream",
     "text": [
      "D: 100%|████████████████████████████████████████████████████████████████████████████| 784/784 [00:01<00:00, 419.52it/s]"
     ]
    },
    {
     "name": "stdout",
     "output_type": "stream",
     "text": [
      "D count: 2583 \n",
      "accuracy: 0.5910470409711684\n"
     ]
    },
    {
     "name": "stderr",
     "output_type": "stream",
     "text": [
      "\n"
     ]
    }
   ],
   "source": [
    "hand_model = CVFW_MODEL(dsize=(28, 28), feature_group_number = 5, feature_weight_number = 120)\n",
    "\n",
    "hand_model.add_directory(class_name=\"A\", path=\"C:\\\\kimdonghwan\\\\python\\\\CVFW\\\\image\\\\train\\\\hand_sign\\\\A\")\n",
    "hand_model.add_directory(class_name=\"B\", path=\"C:\\\\kimdonghwan\\\\python\\\\CVFW\\\\image\\\\train\\\\hand_sign\\\\B\")\n",
    "hand_model.add_directory(class_name=\"C\", path=\"C:\\\\kimdonghwan\\\\python\\\\CVFW\\\\image\\\\train\\\\hand_sign\\\\C\")\n",
    "hand_model.add_directory(class_name=\"D\", path=\"C:\\\\kimdonghwan\\\\python\\\\CVFW\\\\image\\\\train\\\\hand_sign\\\\D\")\n",
    "\n",
    "hand_model.train()\n",
    "print(\"\\naccuracy:\", 0.5910470409711684)"
   ]
  },
  {
   "cell_type": "code",
   "execution_count": 14,
   "id": "7f418e9f",
   "metadata": {},
   "outputs": [
    {
     "name": "stderr",
     "output_type": "stream",
     "text": [
      "A: 100%|████████████████████████████████████████████████████████████████████████████| 784/784 [00:01<00:00, 471.93it/s]\n"
     ]
    },
    {
     "name": "stdout",
     "output_type": "stream",
     "text": [
      "A count: 5660 "
     ]
    },
    {
     "name": "stderr",
     "output_type": "stream",
     "text": [
      "B: 100%|████████████████████████████████████████████████████████████████████████████| 784/784 [00:01<00:00, 492.28it/s]\n"
     ]
    },
    {
     "name": "stdout",
     "output_type": "stream",
     "text": [
      "B count: 5793 "
     ]
    },
    {
     "name": "stderr",
     "output_type": "stream",
     "text": [
      "C: 100%|████████████████████████████████████████████████████████████████████████████| 784/784 [00:01<00:00, 451.96it/s]\n"
     ]
    },
    {
     "name": "stdout",
     "output_type": "stream",
     "text": [
      "C count: 5902 "
     ]
    },
    {
     "name": "stderr",
     "output_type": "stream",
     "text": [
      "D: 100%|████████████████████████████████████████████████████████████████████████████| 784/784 [00:01<00:00, 425.59it/s]"
     ]
    },
    {
     "name": "stdout",
     "output_type": "stream",
     "text": [
      "D count: 6155 \n",
      "accuracy: 0.8042488619119879\n"
     ]
    },
    {
     "name": "stderr",
     "output_type": "stream",
     "text": [
      "\n"
     ]
    }
   ],
   "source": [
    "hand_model = CVFW_MODEL(dsize=(28, 28), feature_group_number = 5, feature_weight_number = 18)\n",
    "\n",
    "hand_model.add_directory(class_name=\"A\", path=\"C:\\\\kimdonghwan\\\\python\\\\CVFW\\\\image\\\\train\\\\hand_sign\\\\A\")\n",
    "hand_model.add_directory(class_name=\"B\", path=\"C:\\\\kimdonghwan\\\\python\\\\CVFW\\\\image\\\\train\\\\hand_sign\\\\B\")\n",
    "hand_model.add_directory(class_name=\"C\", path=\"C:\\\\kimdonghwan\\\\python\\\\CVFW\\\\image\\\\train\\\\hand_sign\\\\C\")\n",
    "hand_model.add_directory(class_name=\"D\", path=\"C:\\\\kimdonghwan\\\\python\\\\CVFW\\\\image\\\\train\\\\hand_sign\\\\D\")\n",
    "\n",
    "hand_model.train()\n",
    "print(\"\\naccuracy:\", 0.8042488619119879)"
   ]
  },
  {
   "cell_type": "code",
   "execution_count": 15,
   "id": "f99b5c86",
   "metadata": {},
   "outputs": [
    {
     "name": "stderr",
     "output_type": "stream",
     "text": [
      "A: 100%|████████████████████████████████████████████████████████████████████████████| 784/784 [00:01<00:00, 478.71it/s]\n"
     ]
    },
    {
     "name": "stdout",
     "output_type": "stream",
     "text": [
      "A count: 9443 "
     ]
    },
    {
     "name": "stderr",
     "output_type": "stream",
     "text": [
      "B: 100%|████████████████████████████████████████████████████████████████████████████| 784/784 [00:01<00:00, 515.05it/s]\n"
     ]
    },
    {
     "name": "stdout",
     "output_type": "stream",
     "text": [
      "B count: 8944 "
     ]
    },
    {
     "name": "stderr",
     "output_type": "stream",
     "text": [
      "C: 100%|████████████████████████████████████████████████████████████████████████████| 784/784 [00:01<00:00, 479.74it/s]\n"
     ]
    },
    {
     "name": "stdout",
     "output_type": "stream",
     "text": [
      "C count: 9215 "
     ]
    },
    {
     "name": "stderr",
     "output_type": "stream",
     "text": [
      "D: 100%|████████████████████████████████████████████████████████████████████████████| 784/784 [00:01<00:00, 451.74it/s]"
     ]
    },
    {
     "name": "stdout",
     "output_type": "stream",
     "text": [
      "D count: 8983 \n",
      "accuracy: 0.8186646433990895\n"
     ]
    },
    {
     "name": "stderr",
     "output_type": "stream",
     "text": [
      "\n"
     ]
    }
   ],
   "source": [
    "hand_model = CVFW_MODEL(dsize=(28, 28), feature_group_number = 300, feature_weight_number = 19)\n",
    "\n",
    "hand_model.add_directory(class_name=\"A\", path=\"C:\\\\kimdonghwan\\\\python\\\\CVFW\\\\image\\\\train\\\\hand_sign\\\\A\")\n",
    "hand_model.add_directory(class_name=\"B\", path=\"C:\\\\kimdonghwan\\\\python\\\\CVFW\\\\image\\\\train\\\\hand_sign\\\\B\")\n",
    "hand_model.add_directory(class_name=\"C\", path=\"C:\\\\kimdonghwan\\\\python\\\\CVFW\\\\image\\\\train\\\\hand_sign\\\\C\")\n",
    "hand_model.add_directory(class_name=\"D\", path=\"C:\\\\kimdonghwan\\\\python\\\\CVFW\\\\image\\\\train\\\\hand_sign\\\\D\")\n",
    "\n",
    "hand_model.train()\n",
    "print(\"\\naccuracy:\", 0.8186646433990895)"
   ]
  },
  {
   "cell_type": "code",
   "execution_count": 16,
   "id": "5ed76dfe",
   "metadata": {},
   "outputs": [
    {
     "name": "stderr",
     "output_type": "stream",
     "text": [
      "A: 100%|████████████████████████████████████████████████████████████████████████████| 784/784 [00:01<00:00, 462.04it/s]\n"
     ]
    },
    {
     "name": "stdout",
     "output_type": "stream",
     "text": [
      "A count: 9848 "
     ]
    },
    {
     "name": "stderr",
     "output_type": "stream",
     "text": [
      "B: 100%|████████████████████████████████████████████████████████████████████████████| 784/784 [00:01<00:00, 498.91it/s]\n"
     ]
    },
    {
     "name": "stdout",
     "output_type": "stream",
     "text": [
      "B count: 9394 "
     ]
    },
    {
     "name": "stderr",
     "output_type": "stream",
     "text": [
      "C: 100%|████████████████████████████████████████████████████████████████████████████| 784/784 [00:01<00:00, 472.24it/s]\n"
     ]
    },
    {
     "name": "stdout",
     "output_type": "stream",
     "text": [
      "C count: 9641 "
     ]
    },
    {
     "name": "stderr",
     "output_type": "stream",
     "text": [
      "D: 100%|████████████████████████████████████████████████████████████████████████████| 784/784 [00:01<00:00, 467.77it/s]"
     ]
    },
    {
     "name": "stdout",
     "output_type": "stream",
     "text": [
      "D count: 9360 \n",
      "accuracy: 0.8254931714719271\n"
     ]
    },
    {
     "name": "stderr",
     "output_type": "stream",
     "text": [
      "\n"
     ]
    }
   ],
   "source": [
    "hand_model = CVFW_MODEL(dsize=(28, 28), feature_group_number = 300, feature_weight_number = 18)\n",
    "\n",
    "hand_model.add_directory(class_name=\"A\", path=\"C:\\\\kimdonghwan\\\\python\\\\CVFW\\\\image\\\\train\\\\hand_sign\\\\A\")\n",
    "hand_model.add_directory(class_name=\"B\", path=\"C:\\\\kimdonghwan\\\\python\\\\CVFW\\\\image\\\\train\\\\hand_sign\\\\B\")\n",
    "hand_model.add_directory(class_name=\"C\", path=\"C:\\\\kimdonghwan\\\\python\\\\CVFW\\\\image\\\\train\\\\hand_sign\\\\C\")\n",
    "hand_model.add_directory(class_name=\"D\", path=\"C:\\\\kimdonghwan\\\\python\\\\CVFW\\\\image\\\\train\\\\hand_sign\\\\D\")\n",
    "\n",
    "hand_model.train()\n",
    "print(\"\\naccuracy:\", 0.8254931714719271)"
   ]
  }
 ],
 "metadata": {
  "kernelspec": {
   "display_name": "Python 3",
   "language": "python",
   "name": "python3"
  },
  "language_info": {
   "codemirror_mode": {
    "name": "ipython",
    "version": 3
   },
   "file_extension": ".py",
   "mimetype": "text/x-python",
   "name": "python",
   "nbconvert_exporter": "python",
   "pygments_lexer": "ipython3",
   "version": "3.8.6"
  }
 },
 "nbformat": 4,
 "nbformat_minor": 5
}
