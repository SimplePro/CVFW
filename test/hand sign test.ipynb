{
 "cells": [
  {
   "cell_type": "markdown",
   "id": "d83c8770",
   "metadata": {},
   "source": [
    "### Update Test"
   ]
  },
  {
   "cell_type": "code",
   "execution_count": 1,
   "id": "d426602c",
   "metadata": {},
   "outputs": [],
   "source": [
    "from cvfwVer2 import CVFW_MODEL, CVFW_UPDATE"
   ]
  },
  {
   "cell_type": "code",
   "execution_count": 2,
   "id": "84aa4e71",
   "metadata": {},
   "outputs": [],
   "source": [
    "hand_model = CVFW_MODEL(dsize=(28, 28))\n",
    "\n",
    "hand_model.add_directory(class_name=\"A\", path=\"C:\\\\kimdonghwan\\\\python\\\\CVFW\\\\image\\\\train\\\\hand_sign\\\\A\")\n",
    "hand_model.add_directory(class_name=\"B\", path=\"C:\\\\kimdonghwan\\\\python\\\\CVFW\\\\image\\\\train\\\\hand_sign\\\\B\")\n",
    "hand_model.add_directory(class_name=\"C\", path=\"C:\\\\kimdonghwan\\\\python\\\\CVFW\\\\image\\\\train\\\\hand_sign\\\\C\")\n",
    "hand_model.add_directory(class_name=\"D\", path=\"C:\\\\kimdonghwan\\\\python\\\\CVFW\\\\image\\\\train\\\\hand_sign\\\\D\")"
   ]
  },
  {
   "cell_type": "code",
   "execution_count": 3,
   "id": "d9a94c01",
   "metadata": {},
   "outputs": [
    {
     "name": "stderr",
     "output_type": "stream",
     "text": [
      "A: 100%|████████████████████████████████████████████████████████████████████████████| 784/784 [00:01<00:00, 476.34it/s]\n",
      "B: 100%|████████████████████████████████████████████████████████████████████████████| 784/784 [00:01<00:00, 527.82it/s]\n",
      "C: 100%|████████████████████████████████████████████████████████████████████████████| 784/784 [00:01<00:00, 456.12it/s]\n",
      "D: 100%|████████████████████████████████████████████████████████████████████████████| 784/784 [00:01<00:00, 452.46it/s]\n"
     ]
    }
   ],
   "source": [
    "hand_model.train()"
   ]
  },
  {
   "cell_type": "code",
   "execution_count": 4,
   "id": "63b15221",
   "metadata": {},
   "outputs": [
    {
     "name": "stdout",
     "output_type": "stream",
     "text": [
      "feature_group_number: 5, feature_weight_nummber: 80 Done!, accuracy: 0.6342943854324734\n",
      "feature_group_number: 5, feature_weight_nummber: 120 Done!, accuracy: 0.5910470409711684\n",
      "feature_group_number: 5, feature_weight_nummber: 300 Done!, accuracy: 0.30652503793626706\n",
      "feature_group_number: 3000, feature_weight_nummber: 80 Done!, accuracy: 0.6342943854324734\n",
      "feature_group_number: 3000, feature_weight_nummber: 120 Done!, accuracy: 0.5910470409711684\n",
      "feature_group_number: 3000, feature_weight_nummber: 300 Done!, accuracy: 0.30652503793626706\n"
     ]
    }
   ],
   "source": [
    "cvfw_update = CVFW_UPDATE(hand_model, feature_group_number = [5, 3000], feature_weight_number = [80, 120, 300])\n",
    "cvfw_update.add_validation(class_name=\"A\", path=\"C:\\\\kimdonghwan\\\\python\\\\CVFW\\\\image\\\\test\\\\hand_sign\\\\A\")\n",
    "cvfw_update.add_validation(class_name=\"B\", path=\"C:\\\\kimdonghwan\\\\python\\\\CVFW\\\\image\\\\test\\\\hand_sign\\\\B\")\n",
    "cvfw_update.add_validation(class_name=\"C\", path=\"C:\\\\kimdonghwan\\\\python\\\\CVFW\\\\image\\\\test\\\\hand_sign\\\\C\")\n",
    "cvfw_update.add_validation(class_name=\"D\", path=\"C:\\\\kimdonghwan\\\\python\\\\CVFW\\\\image\\\\test\\\\hand_sign\\\\D\")\n",
    "cvfw_update.update()"
   ]
  },
  {
   "cell_type": "code",
   "execution_count": 5,
   "id": "5dbb7209",
   "metadata": {},
   "outputs": [
    {
     "name": "stdout",
     "output_type": "stream",
     "text": [
      "feature_group_number: 500, feature_weight_nummber: 40 Done!, accuracy: 0.6851289833080425\n",
      "feature_group_number: 500, feature_weight_nummber: 65 Done!, accuracy: 0.6593323216995448\n",
      "feature_group_number: 500, feature_weight_nummber: 80 Done!, accuracy: 0.6342943854324734\n",
      "feature_group_number: 3000, feature_weight_nummber: 40 Done!, accuracy: 0.6851289833080425\n",
      "feature_group_number: 3000, feature_weight_nummber: 65 Done!, accuracy: 0.6593323216995448\n",
      "feature_group_number: 3000, feature_weight_nummber: 80 Done!, accuracy: 0.6342943854324734\n"
     ]
    }
   ],
   "source": [
    "cvfw_update.set(feature_group_number = [500, 3000], feature_weight_number = [40, 65, 80])\n",
    "cvfw_update.update()"
   ]
  },
  {
   "cell_type": "code",
   "execution_count": 6,
   "id": "126a98a2",
   "metadata": {
    "scrolled": false
   },
   "outputs": [
    {
     "name": "stdout",
     "output_type": "stream",
     "text": [
      "feature_group_number: 50, feature_weight_nummber: 0 Done!, accuracy: 0.56752655538695\n",
      "feature_group_number: 50, feature_weight_nummber: 20 Done!, accuracy: 0.8012139605462822\n",
      "feature_group_number: 50, feature_weight_nummber: 40 Done!, accuracy: 0.6851289833080425\n",
      "feature_group_number: 100, feature_weight_nummber: 0 Done!, accuracy: 0.49241274658573597\n",
      "feature_group_number: 100, feature_weight_nummber: 20 Done!, accuracy: 0.8012139605462822\n",
      "feature_group_number: 100, feature_weight_nummber: 40 Done!, accuracy: 0.6851289833080425\n",
      "feature_group_number: 250, feature_weight_nummber: 0 Done!, accuracy: 0.4795144157814871\n",
      "feature_group_number: 250, feature_weight_nummber: 20 Done!, accuracy: 0.8012139605462822\n",
      "feature_group_number: 250, feature_weight_nummber: 40 Done!, accuracy: 0.6851289833080425\n"
     ]
    }
   ],
   "source": [
    "cvfw_update.set(feature_group_number = [50, 100, 250], feature_weight_number = [0, 20, 40])\n",
    "cvfw_update.update()"
   ]
  },
  {
   "cell_type": "code",
   "execution_count": 7,
   "id": "906c6252",
   "metadata": {},
   "outputs": [
    {
     "name": "stdout",
     "output_type": "stream",
     "text": [
      "feature_group_number: 10, feature_weight_nummber: 18 Done!, accuracy: 0.8330804248861912\n",
      "feature_group_number: 15, feature_weight_nummber: 18 Done!, accuracy: 0.8254931714719271\n"
     ]
    }
   ],
   "source": [
    "cvfw_update.set(feature_group_number = [10, 15], feature_weight_number = [18])\n",
    "cvfw_update.update()"
   ]
  },
  {
   "cell_type": "code",
   "execution_count": 8,
   "id": "b18c283c",
   "metadata": {},
   "outputs": [
    {
     "name": "stdout",
     "output_type": "stream",
     "text": [
      "feature_group_number: 1, feature_weight_nummber: 16 Done!, accuracy: 0.669195751138088\n",
      "feature_group_number: 1, feature_weight_nummber: 17 Done!, accuracy: 0.669195751138088\n",
      "feature_group_number: 1, feature_weight_nummber: 18 Done!, accuracy: 0.669195751138088\n",
      "feature_group_number: 1, feature_weight_nummber: 19 Done!, accuracy: 0.669195751138088\n",
      "feature_group_number: 5, feature_weight_nummber: 16 Done!, accuracy: 0.7966616084977238\n",
      "feature_group_number: 5, feature_weight_nummber: 17 Done!, accuracy: 0.7966616084977238\n",
      "feature_group_number: 5, feature_weight_nummber: 18 Done!, accuracy: 0.8042488619119879\n",
      "feature_group_number: 5, feature_weight_nummber: 19 Done!, accuracy: 0.7852807283763278\n",
      "feature_group_number: 8, feature_weight_nummber: 16 Done!, accuracy: 0.8133535660091047\n",
      "feature_group_number: 8, feature_weight_nummber: 17 Done!, accuracy: 0.8156297420333839\n",
      "feature_group_number: 8, feature_weight_nummber: 18 Done!, accuracy: 0.8323216995447648\n",
      "feature_group_number: 8, feature_weight_nummber: 19 Done!, accuracy: 0.8141122913505311\n"
     ]
    }
   ],
   "source": [
    "cvfw_update.set(feature_group_number = [1, 5, 8], feature_weight_number = [16, 17, 18, 19])\n",
    "cvfw_update.update()"
   ]
  },
  {
   "cell_type": "code",
   "execution_count": 9,
   "id": "710df116",
   "metadata": {
    "scrolled": true
   },
   "outputs": [
    {
     "name": "stdout",
     "output_type": "stream",
     "text": [
      "feature_group_number: 250, feature_weight_nummber: 20 Done!, accuracy: 0.8012139605462822\n",
      "feature_group_number: 250, feature_weight_nummber: 25 Done!, accuracy: 0.7966616084977238\n",
      "feature_group_number: 250, feature_weight_nummber: 30 Done!, accuracy: 0.7488619119878603\n",
      "feature_group_number: 300, feature_weight_nummber: 20 Done!, accuracy: 0.8012139605462822\n",
      "feature_group_number: 300, feature_weight_nummber: 25 Done!, accuracy: 0.7966616084977238\n",
      "feature_group_number: 300, feature_weight_nummber: 30 Done!, accuracy: 0.7488619119878603\n",
      "feature_group_number: 350, feature_weight_nummber: 20 Done!, accuracy: 0.8012139605462822\n",
      "feature_group_number: 350, feature_weight_nummber: 25 Done!, accuracy: 0.7966616084977238\n",
      "feature_group_number: 350, feature_weight_nummber: 30 Done!, accuracy: 0.7488619119878603\n"
     ]
    }
   ],
   "source": [
    "cvfw_update.set(feature_group_number = [250, 300, 350], feature_weight_number = [20, 25, 30])\n",
    "cvfw_update.update()"
   ]
  },
  {
   "cell_type": "code",
   "execution_count": 10,
   "id": "1aabfe95",
   "metadata": {},
   "outputs": [
    {
     "name": "stdout",
     "output_type": "stream",
     "text": [
      "feature_group_number: 250, feature_weight_nummber: 15 Done!, accuracy: 0.8125948406676783\n",
      "feature_group_number: 250, feature_weight_nummber: 20 Done!, accuracy: 0.8012139605462822\n",
      "feature_group_number: 250, feature_weight_nummber: 25 Done!, accuracy: 0.7966616084977238\n",
      "feature_group_number: 273, feature_weight_nummber: 15 Done!, accuracy: 0.8125948406676783\n",
      "feature_group_number: 273, feature_weight_nummber: 20 Done!, accuracy: 0.8012139605462822\n",
      "feature_group_number: 273, feature_weight_nummber: 25 Done!, accuracy: 0.7966616084977238\n",
      "feature_group_number: 296, feature_weight_nummber: 15 Done!, accuracy: 0.8125948406676783\n",
      "feature_group_number: 296, feature_weight_nummber: 20 Done!, accuracy: 0.8012139605462822\n",
      "feature_group_number: 296, feature_weight_nummber: 25 Done!, accuracy: 0.7966616084977238\n"
     ]
    }
   ],
   "source": [
    "cvfw_update.set(feature_group_number = [250, 273, 296], feature_weight_number = [15, 20, 25])\n",
    "cvfw_update.update()"
   ]
  },
  {
   "cell_type": "code",
   "execution_count": 11,
   "id": "1b7b4b37",
   "metadata": {},
   "outputs": [
    {
     "name": "stdout",
     "output_type": "stream",
     "text": [
      "feature_group_number: 300, feature_weight_nummber: 15 Done!, accuracy: 0.8125948406676783\n",
      "feature_group_number: 300, feature_weight_nummber: 20 Done!, accuracy: 0.8012139605462822\n",
      "feature_group_number: 330, feature_weight_nummber: 15 Done!, accuracy: 0.8125948406676783\n",
      "feature_group_number: 330, feature_weight_nummber: 20 Done!, accuracy: 0.8012139605462822\n",
      "feature_group_number: 360, feature_weight_nummber: 15 Done!, accuracy: 0.8125948406676783\n",
      "feature_group_number: 360, feature_weight_nummber: 20 Done!, accuracy: 0.8012139605462822\n",
      "feature_group_number: 390, feature_weight_nummber: 15 Done!, accuracy: 0.8125948406676783\n",
      "feature_group_number: 390, feature_weight_nummber: 20 Done!, accuracy: 0.8012139605462822\n"
     ]
    }
   ],
   "source": [
    "cvfw_update.set(feature_group_number = [300, 330, 360, 390], feature_weight_number = [15, 20])\n",
    "cvfw_update.update()"
   ]
  },
  {
   "cell_type": "code",
   "execution_count": 12,
   "id": "e92a344c",
   "metadata": {},
   "outputs": [
    {
     "name": "stdout",
     "output_type": "stream",
     "text": [
      "feature_group_number: 300, feature_weight_nummber: 16 Done!, accuracy: 0.8179059180576631\n",
      "feature_group_number: 300, feature_weight_nummber: 17 Done!, accuracy: 0.8141122913505311\n",
      "feature_group_number: 300, feature_weight_nummber: 18 Done!, accuracy: 0.8254931714719271\n",
      "feature_group_number: 330, feature_weight_nummber: 16 Done!, accuracy: 0.8179059180576631\n",
      "feature_group_number: 330, feature_weight_nummber: 17 Done!, accuracy: 0.8141122913505311\n",
      "feature_group_number: 330, feature_weight_nummber: 18 Done!, accuracy: 0.8254931714719271\n"
     ]
    }
   ],
   "source": [
    "cvfw_update.set(feature_group_number = [300, 330], feature_weight_number = [16, 17, 18])\n",
    "cvfw_update.update()"
   ]
  },
  {
   "cell_type": "code",
   "execution_count": 13,
   "id": "02e1e8fc",
   "metadata": {},
   "outputs": [
    {
     "name": "stdout",
     "output_type": "stream",
     "text": [
      "feature_group_number: 300, feature_weight_nummber: 19 Done!, accuracy: 0.8186646433990895\n"
     ]
    }
   ],
   "source": [
    "cvfw_update.set(feature_group_number = [300], feature_weight_number = [19])\n",
    "cvfw_update.update()"
   ]
  },
  {
   "cell_type": "markdown",
   "id": "d25123b0",
   "metadata": {},
   "source": [
    "### 약 8번 업데이트했을때의 최적의 feature_group_number 와 feature_weight_number\n",
    "- feature_group_number: 10\n",
    "- feature_weight_number: 18\n",
    "- accuracy: 83.30804248861912%"
   ]
  },
  {
   "cell_type": "markdown",
   "id": "69b9e59c",
   "metadata": {},
   "source": [
    "### Modeling Test"
   ]
  },
  {
   "cell_type": "code",
   "execution_count": 14,
   "id": "7fa5be68",
   "metadata": {},
   "outputs": [
    {
     "name": "stderr",
     "output_type": "stream",
     "text": [
      "A: 100%|████████████████████████████████████████████████████████████████████████████| 784/784 [00:01<00:00, 430.24it/s]\n",
      "B: 100%|████████████████████████████████████████████████████████████████████████████| 784/784 [00:01<00:00, 501.27it/s]\n",
      "C: 100%|████████████████████████████████████████████████████████████████████████████| 784/784 [00:01<00:00, 442.09it/s]\n",
      "D: 100%|████████████████████████████████████████████████████████████████████████████| 784/784 [00:01<00:00, 398.34it/s]"
     ]
    },
    {
     "name": "stdout",
     "output_type": "stream",
     "text": [
      "10.714328527450562\n"
     ]
    },
    {
     "name": "stderr",
     "output_type": "stream",
     "text": [
      "\n"
     ]
    }
   ],
   "source": [
    "from time import time\n",
    "\n",
    "start_time = time()\n",
    "hand_model = CVFW_MODEL(dsize=(28, 28), feature_group_number = 10, feature_weight_number = 18)\n",
    "\n",
    "hand_model.add_directory(class_name=\"A\", path=\"C:\\\\kimdonghwan\\\\python\\\\CVFW\\\\image\\\\train\\\\hand_sign\\\\A\")\n",
    "hand_model.add_directory(class_name=\"B\", path=\"C:\\\\kimdonghwan\\\\python\\\\CVFW\\\\image\\\\train\\\\hand_sign\\\\B\")\n",
    "hand_model.add_directory(class_name=\"C\", path=\"C:\\\\kimdonghwan\\\\python\\\\CVFW\\\\image\\\\train\\\\hand_sign\\\\C\")\n",
    "hand_model.add_directory(class_name=\"D\", path=\"C:\\\\kimdonghwan\\\\python\\\\CVFW\\\\image\\\\train\\\\hand_sign\\\\D\")\n",
    "\n",
    "hand_model.train()\n",
    "print(time() - start_time)"
   ]
  },
  {
   "cell_type": "code",
   "execution_count": 15,
   "id": "66aa6cb6",
   "metadata": {
    "scrolled": true
   },
   "outputs": [
    {
     "name": "stdout",
     "output_type": "stream",
     "text": [
      "(feature_count) / (sum count) : 0.921931951452647\n"
     ]
    },
    {
     "data": {
      "text/plain": [
       "<matplotlib.image.AxesImage at 0x22ea6ae0760>"
      ]
     },
     "execution_count": 15,
     "metadata": {},
     "output_type": "execute_result"
    },
    {
     "data": {
      "image/png": "[encoded data removed]",
      "text/plain": [
       "<Figure size 432x288 with 1 Axes>"
      ]
     },
     "metadata": {
      "needs_background": "light"
     },
     "output_type": "display_data"
    }
   ],
   "source": [
    "import matplotlib.pyplot as plt\n",
    "\n",
    "A_img = hand_model.modeling(class_name=\"A\")\n",
    "plt.imshow(A_img, cmap=\"gray\")"
   ]
  },
  {
   "cell_type": "code",
   "execution_count": 16,
   "id": "0ea3590e",
   "metadata": {
    "scrolled": false
   },
   "outputs": [
    {
     "name": "stdout",
     "output_type": "stream",
     "text": [
      "(feature_count) / (sum count) : 0.8226478929775476\n"
     ]
    },
    {
     "data": {
      "text/plain": [
       "<matplotlib.image.AxesImage at 0x22ea6be8400>"
      ]
     },
     "execution_count": 16,
     "metadata": {},
     "output_type": "execute_result"
    },
    {
     "data": {
      "image/png": "[encoded data removed]",
      "text/plain": [
       "<Figure size 432x288 with 1 Axes>"
      ]
     },
     "metadata": {
      "needs_background": "light"
     },
     "output_type": "display_data"
    }
   ],
   "source": [
    "B_img = hand_model.modeling(class_name='B')\n",
    "plt.imshow(B_img, cmap=\"gray\")"
   ]
  },
  {
   "cell_type": "code",
   "execution_count": 17,
   "id": "0b937f15",
   "metadata": {
    "scrolled": false
   },
   "outputs": [
    {
     "name": "stdout",
     "output_type": "stream",
     "text": [
      "(feature_count) / (sum count) : 0.877221661628565\n"
     ]
    },
    {
     "data": {
      "text/plain": [
       "<matplotlib.image.AxesImage at 0x22ea6c4bbe0>"
      ]
     },
     "execution_count": 17,
     "metadata": {},
     "output_type": "execute_result"
    },
    {
     "data": {
      "image/png": "[encoded data removed]",
      "text/plain": [
       "<Figure size 432x288 with 1 Axes>"
      ]
     },
     "metadata": {
      "needs_background": "light"
     },
     "output_type": "display_data"
    }
   ],
   "source": [
    "C_img = hand_model.modeling(class_name=\"C\")\n",
    "plt.imshow(C_img, cmap=\"gray\")"
   ]
  },
  {
   "cell_type": "code",
   "execution_count": 18,
   "id": "475da438",
   "metadata": {
    "scrolled": false
   },
   "outputs": [
    {
     "name": "stdout",
     "output_type": "stream",
     "text": [
      "(feature_count) / (sum count) : 0.868075414425759\n"
     ]
    },
    {
     "data": {
      "text/plain": [
       "<matplotlib.image.AxesImage at 0x22ea6cb71f0>"
      ]
     },
     "execution_count": 18,
     "metadata": {},
     "output_type": "execute_result"
    },
    {
     "data": {
      "image/png": "[encoded data removed]",
      "text/plain": [
       "<Figure size 432x288 with 1 Axes>"
      ]
     },
     "metadata": {
      "needs_background": "light"
     },
     "output_type": "display_data"
    }
   ],
   "source": [
    "D_img = hand_model.modeling(class_name = \"D\")\n",
    "plt.imshow(D_img, cmap=\"gray\")"
   ]
  },
  {
   "cell_type": "markdown",
   "id": "e91c8b53",
   "metadata": {},
   "source": [
    "### Modeling Predict Class 는 괜찮은 predict 방법일까?\n",
    "- 각 클래스당 modeling 된 이미지로 유사도를 계산하여 predict를 하였을 때 86.1% 로 꽤 높은 정확도를 보여주었다.\n",
    "- 원래 있었던 predict class 보다 좋은 방법인지 확인해보자.\n",
    "\n",
    "### 결론\n",
    "- 기존의 predict 방법이 더 좋다고 판단이 된다.\n",
    "- 이유: modeling predict class 는 각 cost 들의 값이 너무 많이 비슷하여 불안정한 예측 방법이라고 판단되었기 때문이다."
   ]
  },
  {
   "cell_type": "code",
   "execution_count": 53,
   "id": "4d5a6903",
   "metadata": {},
   "outputs": [
    {
     "name": "stdout",
     "output_type": "stream",
     "text": [
      "0.8619119878603946\n",
      "평균 각 클래스 당 약 87.2% 에 해당하는 특징 데이터를 유사도 측정하여 클래스를 예측하였을 때의 정확도가 약 86.1로 꽤나 높은 수치임을 알 수 있다.\n",
      "하지만 cost 들의 값이 많이 비슷하기 때문에 불안정한 예측 방법으로 판단된다.\n",
      "하나의 predict 안에서의 cost 가 전체 30% 를 넘는 원소의 개수:  0\n",
      "하나의 predict 안에서의 cost 가 전체 20% 를 넘는 원소의 개수:  5272\n"
     ]
    },
    {
     "data": {
      "text/plain": [
       "<matplotlib.legend.Legend at 0x22ea7394850>"
      ]
     },
     "execution_count": 53,
     "metadata": {},
     "output_type": "execute_result"
    },
    {
     "data": {
      "image/png": "[encoded data removed]",
      "text/plain": [
       "<Figure size 432x288 with 1 Axes>"
      ]
     },
     "metadata": {
      "needs_background": "light"
     },
     "output_type": "display_data"
    }
   ],
   "source": [
    "from cvfwVer2 import Weight\n",
    "import cv2\n",
    "from os import listdir\n",
    "import numpy as np\n",
    "import matplotlib.pyplot as plt\n",
    "\n",
    "A_Weight = Weight(28, 28, A_img.flatten().tolist())\n",
    "B_Weight = Weight(28, 28, B_img.flatten().tolist())\n",
    "C_Weight = Weight(28, 28, C_img.flatten().tolist())\n",
    "D_Weight = Weight(28, 28, D_img.flatten().tolist())\n",
    "\n",
    "count = 0\n",
    "answer = 0\n",
    "\n",
    "A_files = listdir(\"C:\\\\kimdonghwan\\\\python\\\\CVFW\\\\image\\\\test\\\\hand_sign\\\\A\")\n",
    "B_files = listdir(\"C:\\\\kimdonghwan\\\\python\\\\CVFW\\\\image\\\\test\\\\hand_sign\\\\B\")\n",
    "C_files = listdir(\"C:\\\\kimdonghwan\\\\python\\\\CVFW\\\\image\\\\test\\\\hand_sign\\\\C\")\n",
    "D_files = listdir(\"C:\\\\kimdonghwan\\\\python\\\\CVFW\\\\image\\\\test\\\\hand_sign\\\\D\")\n",
    "\n",
    "predicts = []\n",
    "\n",
    "for file in A_files:\n",
    "    img = cv2.cvtColor(cv2.imread(f\"C:\\\\kimdonghwan\\\\python\\\\CVFW\\\\image\\\\test\\\\hand_sign\\\\A\\\\{file}\", 1), cv2.COLOR_BGR2GRAY).flatten().tolist()\n",
    "    img_weight = Weight(28, 28, img)\n",
    "    A_cost = sum(sum(abs(A_Weight - img_weight)))\n",
    "    B_cost = sum(sum(abs(B_Weight - img_weight)))\n",
    "    C_cost = sum(sum(abs(C_Weight - img_weight)))\n",
    "    D_cost = sum(sum(abs(D_Weight - img_weight)))\n",
    "    \n",
    "    sum_cost = sum([A_cost, B_cost, C_cost, D_cost])\n",
    "    predict = [A_cost / sum_cost, B_cost / sum_cost, C_cost / sum_cost, D_cost / sum_cost]\n",
    "    predicts.append(predict)\n",
    "    \n",
    "    if min(predict) == predict[0]: answer += 1\n",
    "    count += 1\n",
    "    \n",
    "    \n",
    "for file in B_files:\n",
    "    img = cv2.cvtColor(cv2.imread(f\"C:\\\\kimdonghwan\\\\python\\\\CVFW\\\\image\\\\test\\\\hand_sign\\\\B\\\\{file}\", 1), cv2.COLOR_BGR2GRAY).flatten().tolist()\n",
    "    img_weight = Weight(28, 28, img)\n",
    "    A_cost = sum(sum(abs(A_Weight - img_weight)))\n",
    "    B_cost = sum(sum(abs(B_Weight - img_weight)))\n",
    "    C_cost = sum(sum(abs(C_Weight - img_weight)))\n",
    "    D_cost = sum(sum(abs(D_Weight - img_weight)))\n",
    "    \n",
    "    sum_cost = sum([A_cost, B_cost, C_cost, D_cost])\n",
    "    predict = [A_cost / sum_cost, B_cost / sum_cost, C_cost / sum_cost, D_cost / sum_cost]\n",
    "    predicts.append(predict)\n",
    "    \n",
    "    if min(predict) == predict[1]: answer += 1\n",
    "    count += 1\n",
    "\n",
    "\n",
    "for file in C_files:\n",
    "    img = cv2.cvtColor(cv2.imread(f\"C:\\\\kimdonghwan\\\\python\\\\CVFW\\\\image\\\\test\\\\hand_sign\\\\C\\\\{file}\", 1), cv2.COLOR_BGR2GRAY).flatten().tolist()\n",
    "    img_weight = Weight(28, 28, img)\n",
    "    A_cost = sum(sum(abs(A_Weight - img_weight)))\n",
    "    B_cost = sum(sum(abs(B_Weight - img_weight)))\n",
    "    C_cost = sum(sum(abs(C_Weight - img_weight)))\n",
    "    D_cost = sum(sum(abs(D_Weight - img_weight)))\n",
    "    \n",
    "    sum_cost = sum([A_cost, B_cost, C_cost, D_cost])\n",
    "    predict = [A_cost / sum_cost, B_cost / sum_cost, C_cost / sum_cost, D_cost / sum_cost]\n",
    "    predicts.append(predict)\n",
    "    \n",
    "    if min(predict) == predict[2]: answer += 1\n",
    "    count += 1\n",
    "    \n",
    "for file in D_files:\n",
    "    img = cv2.cvtColor(cv2.imread(f\"C:\\\\kimdonghwan\\\\python\\\\CVFW\\\\image\\\\test\\\\hand_sign\\\\D\\\\{file}\", 1), cv2.COLOR_BGR2GRAY).flatten().tolist()\n",
    "    img_weight = Weight(28, 28, img)\n",
    "    A_cost = sum(sum(abs(A_Weight - img_weight)))\n",
    "    B_cost = sum(sum(abs(B_Weight - img_weight)))\n",
    "    C_cost = sum(sum(abs(C_Weight - img_weight)))\n",
    "    D_cost = sum(sum(abs(D_Weight - img_weight)))\n",
    "    \n",
    "    sum_cost = sum([A_cost, B_cost, C_cost, D_cost])\n",
    "    predict = [A_cost / sum_cost, B_cost / sum_cost, C_cost / sum_cost, D_cost / sum_cost]\n",
    "    predicts.append(predict)\n",
    "    \n",
    "    if min(predict) == predict[3]: answer += 1\n",
    "    count += 1\n",
    "    \n",
    "print(answer / count)\n",
    "print(\"평균 각 클래스 당 약 87.2% 에 해당하는 특징 데이터를 유사도 측정하여 클래스를 예측하였을 때의 정확도가 약 86.1로 꽤나 높은 수치임을 알 수 있다.\")\n",
    "print(\"하지만 cost 들의 값이 많이 비슷하기 때문에 불안정한 예측 방법으로 판단된다.\")\n",
    "print(\"하나의 predict 안에서의 cost 가 전체 30% 를 넘는 원소의 개수: \", (np.array(predicts) > 0.3).flatten().tolist().count(True))\n",
    "print(\"하나의 predict 안에서의 cost 가 전체 20% 를 넘는 원소의 개수: \", (np.array(predicts) > 0.20).flatten().tolist().count(True))\n",
    "\n",
    "\n",
    "x = [i for i in range(len(predicts))]\n",
    "rock_y = [i[0] for i in predicts]\n",
    "palm_y = [i[1] for i in predicts]\n",
    "c_y = [i[2] for i in predicts]\n",
    "index_finger_y = [i[3] for i in predicts]\n",
    "\n",
    "plt.scatter(x, rock_y, color=\"red\", label=\"rock\", alpha=0.8)\n",
    "plt.scatter(x, palm_y, color=\"blue\", label=\"palm\", alpha=0.8)\n",
    "plt.scatter(x, c_y, color=\"green\", label=\"c\", alpha=0.8)\n",
    "plt.scatter(x, index_finger_y, color=\"yellow\", label=\"index_finger\", alpha=0.8)\n",
    "plt.ylim(0, 1.0)\n",
    "plt.title(\"modeling predict class\")\n",
    "plt.legend()"
   ]
  },
  {
   "cell_type": "code",
   "execution_count": 54,
   "id": "6340c5f3",
   "metadata": {},
   "outputs": [
    {
     "name": "stdout",
     "output_type": "stream",
     "text": [
      "0.8330804248861912\n"
     ]
    },
    {
     "data": {
      "text/plain": [
       "<matplotlib.legend.Legend at 0x22ea7364b50>"
      ]
     },
     "execution_count": 54,
     "metadata": {},
     "output_type": "execute_result"
    },
    {
     "data": {
      "image/png": "[encoded data removed]",
      "text/plain": [
       "<Figure size 432x288 with 1 Axes>"
      ]
     },
     "metadata": {
      "needs_background": "light"
     },
     "output_type": "display_data"
    }
   ],
   "source": [
    "count = 0\n",
    "answer = 0\n",
    "\n",
    "predicts = []\n",
    "\n",
    "for file in A_files:\n",
    "    img = cv2.cvtColor(cv2.imread(f\"C:\\\\kimdonghwan\\\\python\\\\CVFW\\\\image\\\\test\\\\hand_sign\\\\A\\\\{file}\", 1), cv2.COLOR_BGR2GRAY).flatten().tolist()\n",
    "    predict = hand_model.predict_class(img)\n",
    "    predicts.append(predict)\n",
    "    \n",
    "    if min(predict) == predict[0]: answer += 1\n",
    "    count += 1\n",
    "    \n",
    "for file in B_files:\n",
    "    img = cv2.cvtColor(cv2.imread(f\"C:\\\\kimdonghwan\\\\python\\\\CVFW\\\\image\\\\test\\\\hand_sign\\\\B\\\\{file}\", 1), cv2.COLOR_BGR2GRAY).flatten().tolist()\n",
    "    predict = hand_model.predict_class(img)\n",
    "    predicts.append(predict)\n",
    "    \n",
    "    if min(predict) == predict[1]: answer += 1\n",
    "    count += 1\n",
    "    \n",
    "for file in C_files:\n",
    "    img = cv2.cvtColor(cv2.imread(f\"C:\\\\kimdonghwan\\\\python\\\\CVFW\\\\image\\\\test\\\\hand_sign\\\\C\\\\{file}\", 1), cv2.COLOR_BGR2GRAY).flatten().tolist()\n",
    "    predict = hand_model.predict_class(img)\n",
    "    predicts.append(predict)\n",
    "    \n",
    "    if min(predict) == predict[2]: answer += 1\n",
    "    count += 1\n",
    "    \n",
    "for file in D_files:\n",
    "    img = cv2.cvtColor(cv2.imread(f\"C:\\\\kimdonghwan\\\\python\\\\CVFW\\\\image\\\\test\\\\hand_sign\\\\D\\\\{file}\", 1), cv2.COLOR_BGR2GRAY).flatten().tolist()\n",
    "    predict = hand_model.predict_class(img)\n",
    "    predicts.append(predict)\n",
    "    \n",
    "    if min(predict) == predict[3]: answer += 1\n",
    "    count += 1\n",
    "\n",
    "    \n",
    "print(answer / count)\n",
    "\n",
    "\n",
    "x = [i for i in range(len(predicts))]\n",
    "rock_y = [i[0] for i in predicts]\n",
    "palm_y = [i[1] for i in predicts]\n",
    "c_y = [i[2] for i in predicts]\n",
    "index_finger_y = [i[3] for i in predicts]\n",
    "\n",
    "plt.scatter(x, rock_y, color=\"red\", label=\"rock\", alpha=0.8)\n",
    "plt.scatter(x, palm_y, color=\"blue\", label=\"palm\", alpha=0.8)\n",
    "plt.scatter(x, c_y, color=\"green\", label=\"c\", alpha=0.8)\n",
    "plt.scatter(x, index_finger_y, color=\"yellow\", label=\"index_finger\", alpha=0.8)\n",
    "plt.ylim(0, 1.0)\n",
    "plt.title(\"predict class\")\n",
    "plt.legend()"
   ]
  },
  {
   "cell_type": "markdown",
   "id": "889f9e84",
   "metadata": {},
   "source": [
    "### Predict Test"
   ]
  },
  {
   "cell_type": "code",
   "execution_count": 19,
   "id": "cd30ccbf",
   "metadata": {},
   "outputs": [
    {
     "name": "stdout",
     "output_type": "stream",
     "text": [
      "[0.2054572605002852, 0.24835606608098823, 0.30222093775853914, 0.24396573566018742]\n"
     ]
    },
    {
     "data": {
      "image/png": "[encoded data removed]",
      "text/plain": [
       "<Figure size 432x288 with 1 Axes>"
      ]
     },
     "metadata": {
      "needs_background": "light"
     },
     "output_type": "display_data"
    }
   ],
   "source": [
    "import cv2\n",
    "import matplotlib.pyplot as plt\n",
    "\n",
    "img = cv2.cvtColor(cv2.imread(f\"C:\\\\kimdonghwan\\\\python\\\\CVFW\\\\image\\\\test\\\\hand_sign\\\\A\\\\3_A.jpg\", 1), cv2.COLOR_BGR2GRAY)\n",
    "plt.imshow(img, cmap=\"gray\")\n",
    "\n",
    "img = cv2.resize(img, dsize=(28, 28)).flatten().tolist()\n",
    "predict = hand_model.predict_class(img)\n",
    "print(predict)\n",
    "\n",
    "# CVIW 의 predict 는 cost 비율이기 때문에 predict 값이 가장 작은 것이 예측값이다."
   ]
  },
  {
   "cell_type": "code",
   "execution_count": 20,
   "id": "9197c04e",
   "metadata": {},
   "outputs": [
    {
     "name": "stdout",
     "output_type": "stream",
     "text": [
      "[0.2545463389159446, 0.23728670524220588, 0.2676927109945348, 0.2404742448473147]\n"
     ]
    },
    {
     "data": {
      "image/png": "[encoded data removed]",
      "text/plain": [
       "<Figure size 432x288 with 1 Axes>"
      ]
     },
     "metadata": {
      "needs_background": "light"
     },
     "output_type": "display_data"
    }
   ],
   "source": [
    "img = cv2.cvtColor(cv2.imread(f\"C:\\\\kimdonghwan\\\\python\\\\CVFW\\\\image\\\\test\\\\hand_sign\\\\B\\\\66_B.jpg\", 1), cv2.COLOR_BGR2GRAY)\n",
    "plt.imshow(img, cmap=\"gray\")\n",
    "\n",
    "img = cv2.resize(img, dsize=(28, 28)).flatten().tolist()\n",
    "predict = hand_model.predict_class(img)\n",
    "print(predict)"
   ]
  },
  {
   "cell_type": "code",
   "execution_count": 21,
   "id": "c0dfbdae",
   "metadata": {},
   "outputs": [
    {
     "name": "stdout",
     "output_type": "stream",
     "text": [
      "[0.31095550443779324, 0.24730132985237793, 0.1600319882539628, 0.281711177455866]\n"
     ]
    },
    {
     "data": {
      "image/png": "[encoded data removed]",
      "text/plain": [
       "<Figure size 432x288 with 1 Axes>"
      ]
     },
     "metadata": {
      "needs_background": "light"
     },
     "output_type": "display_data"
    }
   ],
   "source": [
    "img = cv2.cvtColor(cv2.imread(f\"C:\\\\kimdonghwan\\\\python\\\\CVFW\\\\image\\\\test\\\\hand_sign\\\\C\\\\20_c.jpg\", 1), cv2.COLOR_BGR2GRAY)\n",
    "plt.imshow(img, cmap=\"gray\")\n",
    "\n",
    "img = cv2.resize(img, dsize=(28, 28)).flatten().tolist()\n",
    "predict = hand_model.predict_class(img)\n",
    "print(predict)"
   ]
  },
  {
   "cell_type": "code",
   "execution_count": 22,
   "id": "8157b923",
   "metadata": {},
   "outputs": [
    {
     "name": "stdout",
     "output_type": "stream",
     "text": [
      "[0.32702034707650873, 0.16083678072972146, 0.3555283808201385, 0.15661449137363137]\n"
     ]
    },
    {
     "data": {
      "image/png": "[encoded data removed]",
      "text/plain": [
       "<Figure size 432x288 with 1 Axes>"
      ]
     },
     "metadata": {
      "needs_background": "light"
     },
     "output_type": "display_data"
    }
   ],
   "source": [
    "img = cv2.cvtColor(cv2.imread(f\"C:\\\\kimdonghwan\\\\python\\\\CVFW\\\\image\\\\test\\\\hand_sign\\\\D\\\\37_D.jpg\", 1), cv2.COLOR_BGR2GRAY)\n",
    "plt.imshow(img, cmap=\"gray\")\n",
    "\n",
    "img = cv2.resize(img, dsize=(28, 28)).flatten().tolist()\n",
    "predict = hand_model.predict_class(img)\n",
    "print(predict)"
   ]
  }
 ],
 "metadata": {
  "kernelspec": {
   "display_name": "Python 3",
   "language": "python",
   "name": "python3"
  },
  "language_info": {
   "codemirror_mode": {
    "name": "ipython",
    "version": 3
   },
   "file_extension": ".py",
   "mimetype": "text/x-python",
   "name": "python",
   "nbconvert_exporter": "python",
   "pygments_lexer": "ipython3",
   "version": "3.8.6"
  }
 },
 "nbformat": 4,
 "nbformat_minor": 5
}
