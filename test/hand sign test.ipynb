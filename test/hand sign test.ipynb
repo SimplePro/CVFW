{
 "cells": [
  {
   "cell_type": "markdown",
   "id": "d83c8770",
   "metadata": {},
   "source": [
    "### Update Test"
   ]
  },
  {
   "cell_type": "code",
   "execution_count": 1,
   "id": "d426602c",
   "metadata": {},
   "outputs": [],
   "source": [
    "from cvfwVer2 import CVFW_MODEL, CVFW_UPDATE"
   ]
  },
  {
   "cell_type": "code",
   "execution_count": 2,
   "id": "84aa4e71",
   "metadata": {},
   "outputs": [],
   "source": [
    "hand_model = CVFW_MODEL(dsize=(28, 28))\n",
    "\n",
    "hand_model.add_directory(class_name=\"A\", path=\"C:\\\\kimdonghwan\\\\python\\\\CVFW\\\\image\\\\train\\\\hand_sign\\\\A\")\n",
    "hand_model.add_directory(class_name=\"B\", path=\"C:\\\\kimdonghwan\\\\python\\\\CVFW\\\\image\\\\train\\\\hand_sign\\\\B\")\n",
    "hand_model.add_directory(class_name=\"C\", path=\"C:\\\\kimdonghwan\\\\python\\\\CVFW\\\\image\\\\train\\\\hand_sign\\\\C\")"
   ]
  },
  {
   "cell_type": "code",
   "execution_count": 3,
   "id": "d9a94c01",
   "metadata": {},
   "outputs": [
    {
     "name": "stderr",
     "output_type": "stream",
     "text": [
      "A: 100%|████████████████████████████████████████████████████████████████████████████| 784/784 [00:01<00:00, 415.91it/s]\n",
      "B: 100%|████████████████████████████████████████████████████████████████████████████| 784/784 [00:01<00:00, 466.41it/s]\n",
      "C: 100%|████████████████████████████████████████████████████████████████████████████| 784/784 [00:01<00:00, 407.05it/s]\n"
     ]
    }
   ],
   "source": [
    "hand_model.train()"
   ]
  },
  {
   "cell_type": "code",
   "execution_count": 4,
   "id": "63b15221",
   "metadata": {},
   "outputs": [
    {
     "name": "stdout",
     "output_type": "stream",
     "text": [
      "feature_group_number: 5, feature_weight_nummber: 80 Done!, accuracy: 0.8070829450139795\n",
      "feature_group_number: 5, feature_weight_nummber: 120 Done!, accuracy: 0.6971109040074557\n",
      "feature_group_number: 5, feature_weight_nummber: 300 Done!, accuracy: 0.3886300093196645\n",
      "feature_group_number: 3000, feature_weight_nummber: 80 Done!, accuracy: 0.8070829450139795\n",
      "feature_group_number: 3000, feature_weight_nummber: 120 Done!, accuracy: 0.6971109040074557\n",
      "feature_group_number: 3000, feature_weight_nummber: 300 Done!, accuracy: 0.3886300093196645\n"
     ]
    }
   ],
   "source": [
    "cvfw_update = CVFW_UPDATE(hand_model, feature_group_number = [5, 3000], feature_weight_number = [80, 120, 300])\n",
    "cvfw_update.add_validation(class_name=\"A\", path=\"C:\\\\kimdonghwan\\\\python\\\\CVFW\\\\image\\\\test\\\\hand_sign\\\\A\")\n",
    "cvfw_update.add_validation(class_name=\"B\", path=\"C:\\\\kimdonghwan\\\\python\\\\CVFW\\\\image\\\\test\\\\hand_sign\\\\B\")\n",
    "cvfw_update.add_validation(class_name=\"C\", path=\"C:\\\\kimdonghwan\\\\python\\\\CVFW\\\\image\\\\test\\\\hand_sign\\\\C\")\n",
    "cvfw_update.update()"
   ]
  },
  {
   "cell_type": "code",
   "execution_count": 5,
   "id": "126a98a2",
   "metadata": {
    "scrolled": false
   },
   "outputs": [
    {
     "name": "stdout",
     "output_type": "stream",
     "text": [
      "feature_group_number: 50, feature_weight_nummber: 0 Done!, accuracy: 0.6756756756756757\n",
      "feature_group_number: 50, feature_weight_nummber: 20 Done!, accuracy: 0.9282385834109972\n",
      "feature_group_number: 50, feature_weight_nummber: 40 Done!, accuracy: 0.9254426840633737\n",
      "feature_group_number: 100, feature_weight_nummber: 0 Done!, accuracy: 0.6048462255358807\n",
      "feature_group_number: 100, feature_weight_nummber: 20 Done!, accuracy: 0.9282385834109972\n",
      "feature_group_number: 100, feature_weight_nummber: 40 Done!, accuracy: 0.9254426840633737\n",
      "feature_group_number: 250, feature_weight_nummber: 0 Done!, accuracy: 0.5824790307548928\n",
      "feature_group_number: 250, feature_weight_nummber: 20 Done!, accuracy: 0.9282385834109972\n",
      "feature_group_number: 250, feature_weight_nummber: 40 Done!, accuracy: 0.9254426840633737\n"
     ]
    }
   ],
   "source": [
    "cvfw_update.set(feature_group_number = [50, 100, 250], feature_weight_number = [0, 20, 40])\n",
    "cvfw_update.update()"
   ]
  },
  {
   "cell_type": "code",
   "execution_count": 6,
   "id": "906c6252",
   "metadata": {},
   "outputs": [
    {
     "name": "stdout",
     "output_type": "stream",
     "text": [
      "feature_group_number: 10, feature_weight_nummber: 18 Done!, accuracy: 0.9291705498602051\n",
      "feature_group_number: 15, feature_weight_nummber: 18 Done!, accuracy: 0.9245107176141659\n"
     ]
    }
   ],
   "source": [
    "cvfw_update.set(feature_group_number = [10, 15], feature_weight_number = [18])\n",
    "cvfw_update.update()"
   ]
  },
  {
   "cell_type": "markdown",
   "id": "d25123b0",
   "metadata": {},
   "source": [
    "### 최적의 feature_group_number 와 feature_weight_number\n",
    "- feature_group_number: 10\n",
    "- feature_weight_number: 18\n",
    "- accuracy: 92.91705498602051%"
   ]
  },
  {
   "cell_type": "markdown",
   "id": "69b9e59c",
   "metadata": {},
   "source": [
    "### Modeling Test"
   ]
  },
  {
   "cell_type": "code",
   "execution_count": 2,
   "id": "7fa5be68",
   "metadata": {},
   "outputs": [
    {
     "name": "stderr",
     "output_type": "stream",
     "text": [
      "A: 100%|████████████████████████████████████████████████████████████████████████████| 784/784 [00:01<00:00, 464.12it/s]\n",
      "B: 100%|████████████████████████████████████████████████████████████████████████████| 784/784 [00:01<00:00, 524.40it/s]\n",
      "C: 100%|████████████████████████████████████████████████████████████████████████████| 784/784 [00:01<00:00, 452.74it/s]"
     ]
    },
    {
     "name": "stdout",
     "output_type": "stream",
     "text": [
      "7.540928840637207\n"
     ]
    },
    {
     "name": "stderr",
     "output_type": "stream",
     "text": [
      "\n"
     ]
    }
   ],
   "source": [
    "from time import time\n",
    "\n",
    "start_time = time()\n",
    "hand_model = CVFW_MODEL(dsize=(28, 28), feature_group_number = 10, feature_weight_number = 18)\n",
    "\n",
    "hand_model.add_directory(class_name=\"A\", path=\"C:\\\\kimdonghwan\\\\python\\\\CVFW\\\\image\\\\train\\\\hand_sign\\\\A\")\n",
    "hand_model.add_directory(class_name=\"B\", path=\"C:\\\\kimdonghwan\\\\python\\\\CVFW\\\\image\\\\train\\\\hand_sign\\\\B\")\n",
    "hand_model.add_directory(class_name=\"C\", path=\"C:\\\\kimdonghwan\\\\python\\\\CVFW\\\\image\\\\train\\\\hand_sign\\\\C\")\n",
    "\n",
    "hand_model.train()\n",
    "print(time() - start_time)"
   ]
  },
  {
   "cell_type": "code",
   "execution_count": 3,
   "id": "66aa6cb6",
   "metadata": {
    "scrolled": true
   },
   "outputs": [
    {
     "data": {
      "text/plain": [
       "<matplotlib.image.AxesImage at 0x2813ce39c70>"
      ]
     },
     "execution_count": 3,
     "metadata": {},
     "output_type": "execute_result"
    },
    {
     "data": {
      "image/png": "[encoded data removed]",
      "text/plain": [
       "<Figure size 432x288 with 1 Axes>"
      ]
     },
     "metadata": {
      "needs_background": "light"
     },
     "output_type": "display_data"
    }
   ],
   "source": [
    "import matplotlib.pyplot as plt\n",
    "\n",
    "A_img = hand_model.modeling(class_name=\"A\")\n",
    "plt.imshow(A_img, cmap=\"gray\")"
   ]
  },
  {
   "cell_type": "code",
   "execution_count": 4,
   "id": "0ea3590e",
   "metadata": {
    "scrolled": false
   },
   "outputs": [
    {
     "data": {
      "text/plain": [
       "<matplotlib.image.AxesImage at 0x2813cf3c7c0>"
      ]
     },
     "execution_count": 4,
     "metadata": {},
     "output_type": "execute_result"
    },
    {
     "data": {
      "image/png": "[encoded data removed]",
      "text/plain": [
       "<Figure size 432x288 with 1 Axes>"
      ]
     },
     "metadata": {
      "needs_background": "light"
     },
     "output_type": "display_data"
    }
   ],
   "source": [
    "B_img = hand_model.modeling(class_name='B')\n",
    "plt.imshow(B_img, cmap=\"gray\")"
   ]
  },
  {
   "cell_type": "code",
   "execution_count": 5,
   "id": "0b937f15",
   "metadata": {
    "scrolled": false
   },
   "outputs": [
    {
     "data": {
      "text/plain": [
       "<matplotlib.image.AxesImage at 0x2813cfa2f70>"
      ]
     },
     "execution_count": 5,
     "metadata": {},
     "output_type": "execute_result"
    },
    {
     "data": {
      "image/png": "[encoded data removed]",
      "text/plain": [
       "<Figure size 432x288 with 1 Axes>"
      ]
     },
     "metadata": {
      "needs_background": "light"
     },
     "output_type": "display_data"
    }
   ],
   "source": [
    "C_img = hand_model.modeling(class_name=\"C\")\n",
    "plt.imshow(C_img, cmap=\"gray\")"
   ]
  },
  {
   "cell_type": "markdown",
   "id": "e91c8b53",
   "metadata": {},
   "source": [
    "### Modeling Predict Class 는 괜찮은 predict 방법일까?\n",
    "- 각 클래스당 modeling 된 이미지로 유사도를 계산하여 predict를 하였을 때 86.1% 로 꽤 높은 정확도를 보여주었다.\n",
    "- 원래 있었던 predict class 보다 좋은 방법인지 확인해보자.\n",
    "\n",
    "### 결론\n",
    "- 기존의 predict 방법이 더 좋다고 판단이 된다.\n",
    "- 이유: modeling predict class 는 각 cost 들의 값이 너무 많이 비슷하여 불안정한 예측 방법이라고 판단되었기 때문이다."
   ]
  },
  {
   "cell_type": "code",
   "execution_count": 15,
   "id": "4d5a6903",
   "metadata": {},
   "outputs": [
    {
     "name": "stdout",
     "output_type": "stream",
     "text": [
      "0.9571295433364398\n",
      "정확도가 약 95.7%로 꽤나 높은 수치임을 알 수 있다.\n",
      "하지만 cost 들의 값이 많이 비슷하기 때문에 불안정한 예측 방법으로 판단된다.\n",
      "but 속도는 기존의 predict_class 방법보다는 우월한 성능을 보여준다.\n",
      "하나의 predict 안에서의 cost 가 전체 30% 를 넘는 원소의 개수:  3181\n",
      "하나의 predict 안에서의 cost 가 전체 20% 를 넘는 원소의 개수:  3219\n"
     ]
    },
    {
     "data": {
      "text/plain": [
       "<matplotlib.legend.Legend at 0x1f2925bad00>"
      ]
     },
     "execution_count": 15,
     "metadata": {},
     "output_type": "execute_result"
    },
    {
     "data": {
      "image/png": "[encoded data removed]",
      "text/plain": [
       "<Figure size 432x288 with 1 Axes>"
      ]
     },
     "metadata": {
      "needs_background": "light"
     },
     "output_type": "display_data"
    }
   ],
   "source": [
    "from cvfwVer2 import Weight\n",
    "import cv2\n",
    "from os import listdir\n",
    "import numpy as np\n",
    "import matplotlib.pyplot as plt\n",
    "\n",
    "A_Weight = Weight(28, 28, A_img.flatten().tolist())\n",
    "B_Weight = Weight(28, 28, B_img.flatten().tolist())\n",
    "C_Weight = Weight(28, 28, C_img.flatten().tolist())\n",
    "\n",
    "count = 0\n",
    "answer = 0\n",
    "\n",
    "A_files = listdir(\"C:\\\\kimdonghwan\\\\python\\\\CVFW\\\\image\\\\test\\\\hand_sign\\\\A\")\n",
    "B_files = listdir(\"C:\\\\kimdonghwan\\\\python\\\\CVFW\\\\image\\\\test\\\\hand_sign\\\\B\")\n",
    "C_files = listdir(\"C:\\\\kimdonghwan\\\\python\\\\CVFW\\\\image\\\\test\\\\hand_sign\\\\C\")\n",
    "\n",
    "predicts = []\n",
    "\n",
    "for file in A_files:\n",
    "    img = cv2.cvtColor(cv2.imread(f\"C:\\\\kimdonghwan\\\\python\\\\CVFW\\\\image\\\\test\\\\hand_sign\\\\A\\\\{file}\", 1), cv2.COLOR_BGR2GRAY).flatten().tolist()\n",
    "    img_weight = Weight(28, 28, img)\n",
    "    A_cost = sum(sum(abs(A_Weight - img_weight)))\n",
    "    B_cost = sum(sum(abs(B_Weight - img_weight)))\n",
    "    C_cost = sum(sum(abs(C_Weight - img_weight)))\n",
    "    \n",
    "    sum_cost = sum([A_cost, B_cost, C_cost])\n",
    "    predict = [A_cost / sum_cost, B_cost / sum_cost, C_cost / sum_cost]\n",
    "    predicts.append(predict)\n",
    "    \n",
    "    if min(predict) == predict[0]: answer += 1\n",
    "    count += 1\n",
    "    \n",
    "    \n",
    "for file in B_files:\n",
    "    img = cv2.cvtColor(cv2.imread(f\"C:\\\\kimdonghwan\\\\python\\\\CVFW\\\\image\\\\test\\\\hand_sign\\\\B\\\\{file}\", 1), cv2.COLOR_BGR2GRAY).flatten().tolist()\n",
    "    img_weight = Weight(28, 28, img)\n",
    "    A_cost = sum(sum(abs(A_Weight - img_weight)))\n",
    "    B_cost = sum(sum(abs(B_Weight - img_weight)))\n",
    "    C_cost = sum(sum(abs(C_Weight - img_weight)))\n",
    "    \n",
    "    sum_cost = sum([A_cost, B_cost, C_cost])\n",
    "    predict = [A_cost / sum_cost, B_cost / sum_cost, C_cost / sum_cost]\n",
    "    predicts.append(predict)\n",
    "    \n",
    "    if min(predict) == predict[1]: answer += 1\n",
    "    count += 1\n",
    "\n",
    "\n",
    "for file in C_files:\n",
    "    img = cv2.cvtColor(cv2.imread(f\"C:\\\\kimdonghwan\\\\python\\\\CVFW\\\\image\\\\test\\\\hand_sign\\\\C\\\\{file}\", 1), cv2.COLOR_BGR2GRAY).flatten().tolist()\n",
    "    img_weight = Weight(28, 28, img)\n",
    "    A_cost = sum(sum(abs(A_Weight - img_weight)))\n",
    "    B_cost = sum(sum(abs(B_Weight - img_weight)))\n",
    "    C_cost = sum(sum(abs(C_Weight - img_weight)))\n",
    "    \n",
    "    sum_cost = sum([A_cost, B_cost, C_cost])\n",
    "    predict = [A_cost / sum_cost, B_cost / sum_cost, C_cost / sum_cost]\n",
    "    predicts.append(predict)\n",
    "    \n",
    "    if min(predict) == predict[2]: answer += 1\n",
    "    count += 1\n",
    "\n",
    "    \n",
    "print(answer / count)\n",
    "print(\"정확도가 약 95.7%로 꽤나 높은 수치임을 알 수 있다.\")\n",
    "print(\"하지만 cost 들의 값이 많이 비슷하기 때문에 불안정한 예측 방법으로 판단된다.\")\n",
    "print(\"but 속도는 기존의 predict_class 방법보다는 우월한 성능을 보여준다.\")\n",
    "print(\"하나의 predict 안에서의 cost 가 전체 30% 를 넘는 원소의 개수: \", (np.array(predicts) > 0.3).flatten().tolist().count(True))\n",
    "print(\"하나의 predict 안에서의 cost 가 전체 20% 를 넘는 원소의 개수: \", (np.array(predicts) > 0.20).flatten().tolist().count(True))\n",
    "\n",
    "\n",
    "x = [i for i in range(len(predicts))]\n",
    "rock_y = [i[0] for i in predicts]\n",
    "palm_y = [i[1] for i in predicts]\n",
    "c_y = [i[2] for i in predicts]\n",
    "\n",
    "plt.scatter(x, rock_y, color=\"red\", label=\"rock\", alpha=0.8)\n",
    "plt.scatter(x, palm_y, color=\"blue\", label=\"palm\", alpha=0.8)\n",
    "plt.scatter(x, c_y, color=\"green\", label=\"c\", alpha=0.8)\n",
    "plt.ylim(0, 1.0)\n",
    "plt.title(\"modeling predict class\")\n",
    "plt.legend()"
   ]
  },
  {
   "cell_type": "code",
   "execution_count": 14,
   "id": "6340c5f3",
   "metadata": {
    "scrolled": true
   },
   "outputs": [
    {
     "name": "stdout",
     "output_type": "stream",
     "text": [
      "0.9291705498602051\n"
     ]
    },
    {
     "data": {
      "text/plain": [
       "<matplotlib.legend.Legend at 0x1f29158f850>"
      ]
     },
     "execution_count": 14,
     "metadata": {},
     "output_type": "execute_result"
    },
    {
     "data": {
      "image/png": "[encoded data removed]",
      "text/plain": [
       "<Figure size 432x288 with 1 Axes>"
      ]
     },
     "metadata": {
      "needs_background": "light"
     },
     "output_type": "display_data"
    }
   ],
   "source": [
    "count = 0\n",
    "answer = 0\n",
    "\n",
    "predicts = []\n",
    "\n",
    "for file in A_files:\n",
    "    img = cv2.cvtColor(cv2.imread(f\"C:\\\\kimdonghwan\\\\python\\\\CVFW\\\\image\\\\test\\\\hand_sign\\\\A\\\\{file}\", 1), cv2.COLOR_BGR2GRAY).flatten().tolist()\n",
    "    predict = hand_model.predict_class(img)\n",
    "    predicts.append(predict)\n",
    "    \n",
    "    if min(predict) == predict[0]: answer += 1\n",
    "    count += 1\n",
    "    \n",
    "for file in B_files:\n",
    "    img = cv2.cvtColor(cv2.imread(f\"C:\\\\kimdonghwan\\\\python\\\\CVFW\\\\image\\\\test\\\\hand_sign\\\\B\\\\{file}\", 1), cv2.COLOR_BGR2GRAY).flatten().tolist()\n",
    "    predict = hand_model.predict_class(img)\n",
    "    predicts.append(predict)\n",
    "    \n",
    "    if min(predict) == predict[1]: answer += 1\n",
    "    count += 1\n",
    "    \n",
    "for file in C_files:\n",
    "    img = cv2.cvtColor(cv2.imread(f\"C:\\\\kimdonghwan\\\\python\\\\CVFW\\\\image\\\\test\\\\hand_sign\\\\C\\\\{file}\", 1), cv2.COLOR_BGR2GRAY).flatten().tolist()\n",
    "    predict = hand_model.predict_class(img)\n",
    "    predicts.append(predict)\n",
    "    \n",
    "    if min(predict) == predict[2]: answer += 1\n",
    "    count += 1\n",
    "\n",
    "    \n",
    "print(answer / count)\n",
    "\n",
    "\n",
    "x = [i for i in range(len(predicts))]\n",
    "rock_y = [i[0] for i in predicts]\n",
    "palm_y = [i[1] for i in predicts]\n",
    "c_y = [i[2] for i in predicts]\n",
    "\n",
    "plt.scatter(x, rock_y, color=\"red\", label=\"rock\", alpha=0.8)\n",
    "plt.scatter(x, palm_y, color=\"blue\", label=\"palm\", alpha=0.8)\n",
    "plt.scatter(x, c_y, color=\"green\", label=\"c\", alpha=0.8)\n",
    "plt.ylim(0, 1.0)\n",
    "plt.title(\"predict class\")\n",
    "plt.legend()"
   ]
  },
  {
   "cell_type": "markdown",
   "id": "889f9e84",
   "metadata": {},
   "source": [
    "### Predict Test"
   ]
  },
  {
   "cell_type": "code",
   "execution_count": 16,
   "id": "cd30ccbf",
   "metadata": {},
   "outputs": [
    {
     "name": "stdout",
     "output_type": "stream",
     "text": [
      "[0.27175654621909956, 0.32849842632180004, 0.3997450274591004]\n"
     ]
    },
    {
     "data": {
      "image/png": "[encoded data removed]",
      "text/plain": [
       "<Figure size 432x288 with 1 Axes>"
      ]
     },
     "metadata": {
      "needs_background": "light"
     },
     "output_type": "display_data"
    }
   ],
   "source": [
    "import cv2\n",
    "import matplotlib.pyplot as plt\n",
    "\n",
    "img = cv2.cvtColor(cv2.imread(f\"C:\\\\kimdonghwan\\\\python\\\\CVFW\\\\image\\\\test\\\\hand_sign\\\\A\\\\3_A.jpg\", 1), cv2.COLOR_BGR2GRAY)\n",
    "plt.imshow(img, cmap=\"gray\")\n",
    "\n",
    "img = cv2.resize(img, dsize=(28, 28)).flatten().tolist()\n",
    "predict = hand_model.predict_class(img)\n",
    "print(predict)\n",
    "\n",
    "# CVIW 의 predict 는 cost 비율이기 때문에 predict 값이 가장 작은 것이 예측값이다."
   ]
  },
  {
   "cell_type": "code",
   "execution_count": 17,
   "id": "9197c04e",
   "metadata": {},
   "outputs": [
    {
     "name": "stdout",
     "output_type": "stream",
     "text": [
      "[0.3351385218856388, 0.31241429751714583, 0.3524471805972153]\n"
     ]
    },
    {
     "data": {
      "image/png": "[encoded data removed]",
      "text/plain": [
       "<Figure size 432x288 with 1 Axes>"
      ]
     },
     "metadata": {
      "needs_background": "light"
     },
     "output_type": "display_data"
    }
   ],
   "source": [
    "img = cv2.cvtColor(cv2.imread(f\"C:\\\\kimdonghwan\\\\python\\\\CVFW\\\\image\\\\test\\\\hand_sign\\\\B\\\\66_B.jpg\", 1), cv2.COLOR_BGR2GRAY)\n",
    "plt.imshow(img, cmap=\"gray\")\n",
    "\n",
    "img = cv2.resize(img, dsize=(28, 28)).flatten().tolist()\n",
    "predict = hand_model.predict_class(img)\n",
    "print(predict)"
   ]
  },
  {
   "cell_type": "code",
   "execution_count": 114,
   "id": "c0dfbdae",
   "metadata": {},
   "outputs": [
    {
     "name": "stdout",
     "output_type": "stream",
     "text": [
      "[0.4329115178716109, 0.3442923265552875, 0.22279615557310156]\n"
     ]
    },
    {
     "data": {
      "image/png": "[encoded data removed]",
      "text/plain": [
       "<Figure size 432x288 with 1 Axes>"
      ]
     },
     "metadata": {
      "needs_background": "light"
     },
     "output_type": "display_data"
    }
   ],
   "source": [
    "img = cv2.cvtColor(cv2.imread(f\"C:\\\\kimdonghwan\\\\python\\\\CVFW\\\\image\\\\test\\\\hand_sign\\\\C\\\\20_c.jpg\", 1), cv2.COLOR_BGR2GRAY)\n",
    "plt.imshow(img, cmap=\"gray\")\n",
    "\n",
    "img = cv2.resize(img, dsize=(28, 28)).flatten().tolist()\n",
    "predict = hand_model.predict_class(img)\n",
    "print(predict)"
   ]
  }
 ],
 "metadata": {
  "kernelspec": {
   "display_name": "Python 3",
   "language": "python",
   "name": "python3"
  },
  "language_info": {
   "codemirror_mode": {
    "name": "ipython",
    "version": 3
   },
   "file_extension": ".py",
   "mimetype": "text/x-python",
   "name": "python",
   "nbconvert_exporter": "python",
   "pygments_lexer": "ipython3",
   "version": "3.8.6"
  }
 },
 "nbformat": 4,
 "nbformat_minor": 5
}
