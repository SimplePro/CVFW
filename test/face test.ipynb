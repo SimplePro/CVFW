{
 "cells": [
  {
   "cell_type": "code",
   "execution_count": 1,
   "id": "b05d4f31",
   "metadata": {},
   "outputs": [],
   "source": [
    "from cvfwVer2 import CVFW_MODEL, CVFW_UPDATE\n",
    "\n",
    "cvfw_model = CVFW_MODEL(dsize=(100, 100))\n",
    "\n",
    "cvfw_model.add_directory(class_name=\"female face\", path=\"C:\\\\kimdonghwan\\\\python\\\\CVFW\\\\image\\\\train\\\\face\\\\femaleface\")\n",
    "cvfw_model.add_directory(class_name=\"male face\", path=\"C:\\\\kimdonghwan\\\\python\\\\CVFW\\\\image\\\\train\\\\face\\\\maleface\")"
   ]
  },
  {
   "cell_type": "code",
   "execution_count": 2,
   "id": "e1c4f991",
   "metadata": {},
   "outputs": [
    {
     "name": "stderr",
     "output_type": "stream",
     "text": [
      "female face: 100%|█████████████████████████████████████████████████████████████| 10000/10000 [00:09<00:00, 1090.79it/s]\n",
      "male face: 100%|███████████████████████████████████████████████████████████████| 10000/10000 [00:07<00:00, 1273.31it/s]\n"
     ]
    }
   ],
   "source": [
    "cvfw_model.train()"
   ]
  },
  {
   "cell_type": "code",
   "execution_count": 3,
   "id": "57c89bb1",
   "metadata": {},
   "outputs": [
    {
     "name": "stdout",
     "output_type": "stream",
     "text": [
      "461\n",
      "390\n"
     ]
    }
   ],
   "source": [
    "from os import listdir\n",
    "\n",
    "print(len(listdir(\"C:\\\\kimdonghwan\\\\python\\\\CVFW\\\\image\\\\train\\\\face\\\\femaleface\")))\n",
    "print(len(listdir(\"C:\\\\kimdonghwan\\\\python\\\\CVFW\\\\image\\\\train\\\\face\\\\maleface\")))"
   ]
  },
  {
   "cell_type": "code",
   "execution_count": 6,
   "id": "3733ff8f",
   "metadata": {},
   "outputs": [
    {
     "name": "stdout",
     "output_type": "stream",
     "text": [
      "feature_group_number: 100, feature_weight_nummber: 30 Done!, accuracy: 0.6454183266932271\n",
      "feature_group_number: 100, feature_weight_nummber: 50 Done!, accuracy: 0.6653386454183267\n",
      "feature_group_number: 500, feature_weight_nummber: 30 Done!, accuracy: 0.6454183266932271\n",
      "feature_group_number: 500, feature_weight_nummber: 50 Done!, accuracy: 0.6653386454183267\n"
     ]
    }
   ],
   "source": [
    "cvfw_update = CVFW_UPDATE(cvfw_model, feature_group_number=[100, 500], feature_weight_number=[30, 50])\n",
    "cvfw_update.add_validation(class_name=\"female face\", path = \"./image/test/face/femaleface\")\n",
    "cvfw_update.add_validation(class_name=\"male face\", path = \"./image/test/face/maleface\")\n",
    "cvfw_update.update()"
   ]
  },
  {
   "cell_type": "code",
   "execution_count": 7,
   "id": "05a9f2d8",
   "metadata": {},
   "outputs": [
    {
     "name": "stdout",
     "output_type": "stream",
     "text": [
      "feature_group_number: 20, feature_weight_nummber: 30 Done!, accuracy: 0.6454183266932271\n",
      "feature_group_number: 20, feature_weight_nummber: 50 Done!, accuracy: 0.6653386454183267\n",
      "feature_group_number: 20, feature_weight_nummber: 75 Done!, accuracy: 0.701195219123506\n",
      "feature_group_number: 50, feature_weight_nummber: 30 Done!, accuracy: 0.6454183266932271\n",
      "feature_group_number: 50, feature_weight_nummber: 50 Done!, accuracy: 0.6653386454183267\n",
      "feature_group_number: 50, feature_weight_nummber: 75 Done!, accuracy: 0.701195219123506\n",
      "feature_group_number: 70, feature_weight_nummber: 30 Done!, accuracy: 0.6454183266932271\n",
      "feature_group_number: 70, feature_weight_nummber: 50 Done!, accuracy: 0.6653386454183267\n",
      "feature_group_number: 70, feature_weight_nummber: 75 Done!, accuracy: 0.701195219123506\n"
     ]
    }
   ],
   "source": [
    "cvfw_update.set(feature_group_number = [20, 50, 70], feature_weight_number = [30, 50, 75])\n",
    "cvfw_update.update()"
   ]
  },
  {
   "cell_type": "markdown",
   "id": "b0eeec73",
   "metadata": {},
   "source": [
    "### 최적의 feature_group_number, feature_weight_number\n",
    "- feature_group_number: 20\n",
    "- feature_weight_number: 75\n",
    "- accuracy: 70.1195219123506%"
   ]
  }
 ],
 "metadata": {
  "kernelspec": {
   "display_name": "Python 3",
   "language": "python",
   "name": "python3"
  },
  "language_info": {
   "codemirror_mode": {
    "name": "ipython",
    "version": 3
   },
   "file_extension": ".py",
   "mimetype": "text/x-python",
   "name": "python",
   "nbconvert_exporter": "python",
   "pygments_lexer": "ipython3",
   "version": "3.8.6"
  }
 },
 "nbformat": 4,
 "nbformat_minor": 5
}
