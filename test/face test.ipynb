{
 "cells": [
  {
   "cell_type": "code",
   "execution_count": 4,
   "id": "b05d4f31",
   "metadata": {},
   "outputs": [],
   "source": [
    "from cvfwVer2 import CVFW_MODEL, CVFW_UPDATE\n",
    "\n",
    "cvfw_model = CVFW_MODEL(dsize=(64, 64))\n",
    "\n",
    "cvfw_model.add_directory(class_name=\"female face\", path=\"C:\\\\kimdonghwan\\\\python\\\\CVFW\\\\image\\\\train\\\\face\\\\femaleface\")\n",
    "cvfw_model.add_directory(class_name=\"male face\", path=\"C:\\\\kimdonghwan\\\\python\\\\CVFW\\\\image\\\\train\\\\face\\\\maleface\")"
   ]
  },
  {
   "cell_type": "code",
   "execution_count": 5,
   "id": "e1c4f991",
   "metadata": {},
   "outputs": [
    {
     "name": "stderr",
     "output_type": "stream",
     "text": [
      "female face: 100%|████████████████████████████████████████████████████████████████| 4096/4096 [00:15<00:00, 260.32it/s]\n",
      "male face: 100%|██████████████████████████████████████████████████████████████████| 4096/4096 [00:16<00:00, 253.85it/s]\n"
     ]
    }
   ],
   "source": [
    "cvfw_model.train()"
   ]
  },
  {
   "cell_type": "code",
   "execution_count": 6,
   "id": "c5db6f03",
   "metadata": {},
   "outputs": [
    {
     "data": {
      "text/plain": [
       "<matplotlib.image.AxesImage at 0x20804d03130>"
      ]
     },
     "execution_count": 6,
     "metadata": {},
     "output_type": "execute_result"
    },
    {
     "data": {
      "image/png": "[encoded data removed]",
      "text/plain": [
       "<Figure size 432x288 with 1 Axes>"
      ]
     },
     "metadata": {
      "needs_background": "light"
     },
     "output_type": "display_data"
    }
   ],
   "source": [
    "import matplotlib.pyplot as plt\n",
    "\n",
    "modeling = cvfw_model.modeling(class_name=\"female face\")\n",
    "plt.imshow(modeling, cmap=\"gray\")"
   ]
  },
  {
   "cell_type": "code",
   "execution_count": 7,
   "id": "d8369e89",
   "metadata": {},
   "outputs": [
    {
     "data": {
      "text/plain": [
       "<matplotlib.image.AxesImage at 0x20804e06220>"
      ]
     },
     "execution_count": 7,
     "metadata": {},
     "output_type": "execute_result"
    },
    {
     "data": {
      "image/png": "[encoded data removed]",
      "text/plain": [
       "<Figure size 432x288 with 1 Axes>"
      ]
     },
     "metadata": {
      "needs_background": "light"
     },
     "output_type": "display_data"
    }
   ],
   "source": [
    "modeling = cvfw_model.modeling(class_name=\"male face\")\n",
    "plt.imshow(modeling, cmap=\"gray\")"
   ]
  },
  {
   "cell_type": "code",
   "execution_count": 36,
   "id": "3733ff8f",
   "metadata": {},
   "outputs": [],
   "source": [
    "cvfw_update = CVFW_UPDATE(cvfw_model, feature_group_number=[100, 500], feature_weight_number=[30, 50])\n",
    "cvfw_update.add_validation(class_name=\"female face\", path = \"C:\\\\kimdonghwan\\\\python\\\\CVFW\\\\image\\\\test\\\\face\\\\femaleface\")\n",
    "cvfw_update.add_validation(class_name=\"male face\", path = \"C:\\\\kimdonghwan\\\\python\\\\CVFW\\\\image\\\\test\\\\face\\\\maleface\")"
   ]
  },
  {
   "cell_type": "code",
   "execution_count": 6,
   "id": "22f0d35e",
   "metadata": {},
   "outputs": [
    {
     "name": "stdout",
     "output_type": "stream",
     "text": [
      "feature_group_number: 100, feature_weight_nummber: 30 Done!, accuracy: 0.676\n",
      "feature_group_number: 100, feature_weight_nummber: 50 Done!, accuracy: 0.644\n",
      "feature_group_number: 500, feature_weight_nummber: 30 Done!, accuracy: 0.676\n",
      "feature_group_number: 500, feature_weight_nummber: 50 Done!, accuracy: 0.644\n"
     ]
    }
   ],
   "source": [
    "cvfw_update.update()"
   ]
  },
  {
   "cell_type": "code",
   "execution_count": 8,
   "id": "e2cbe7c0",
   "metadata": {},
   "outputs": [
    {
     "name": "stdout",
     "output_type": "stream",
     "text": [
      "feature_group_number: 30, feature_weight_nummber: 0 Done!, accuracy: 0.714\n",
      "feature_group_number: 100, feature_weight_nummber: 0 Done!, accuracy: 0.588\n",
      "feature_group_number: 500, feature_weight_nummber: 0 Done!, accuracy: 0.542\n"
     ]
    }
   ],
   "source": [
    "cvfw_update.set(feature_group_number = [30, 100, 500], feature_weight_number = [0])\n",
    "cvfw_update.update()"
   ]
  },
  {
   "cell_type": "code",
   "execution_count": 11,
   "id": "986f1428",
   "metadata": {},
   "outputs": [
    {
     "name": "stdout",
     "output_type": "stream",
     "text": [
      "feature_group_number: 5, feature_weight_nummber: 0 Done!, accuracy: 0.748\n",
      "feature_group_number: 5, feature_weight_nummber: 20 Done!, accuracy: 0.7\n",
      "feature_group_number: 7, feature_weight_nummber: 0 Done!, accuracy: 0.746\n",
      "feature_group_number: 7, feature_weight_nummber: 20 Done!, accuracy: 0.686\n",
      "feature_group_number: 10, feature_weight_nummber: 0 Done!, accuracy: 0.738\n",
      "feature_group_number: 10, feature_weight_nummber: 20 Done!, accuracy: 0.678\n"
     ]
    }
   ],
   "source": [
    "cvfw_update.set(feature_group_number = [5, 7, 10], feature_weight_number = [0, 20])\n",
    "cvfw_update.update()"
   ]
  },
  {
   "cell_type": "code",
   "execution_count": 12,
   "id": "29b4272f",
   "metadata": {},
   "outputs": [
    {
     "name": "stdout",
     "output_type": "stream",
     "text": [
      "feature_group_number: 3, feature_weight_nummber: 0 Done!, accuracy: 0.704\n",
      "feature_group_number: 4, feature_weight_nummber: 0 Done!, accuracy: 0.732\n"
     ]
    }
   ],
   "source": [
    "cvfw_update.set(feature_group_number = [3, 4], feature_weight_number = [0])\n",
    "cvfw_update.update()"
   ]
  },
  {
   "cell_type": "code",
   "execution_count": 13,
   "id": "fa773e91",
   "metadata": {},
   "outputs": [
    {
     "name": "stdout",
     "output_type": "stream",
     "text": [
      "feature_group_number: 6, feature_weight_nummber: 0 Done!, accuracy: 0.738\n"
     ]
    }
   ],
   "source": [
    "cvfw_update.set(feature_group_number = [6], feature_weight_number = [0])\n",
    "cvfw_update.update()"
   ]
  },
  {
   "cell_type": "code",
   "execution_count": 17,
   "id": "4dacc5ff",
   "metadata": {},
   "outputs": [
    {
     "name": "stdout",
     "output_type": "stream",
     "text": [
      "feature_group_number: 10, feature_weight_nummber: 5 Done!, accuracy: 0.74\n",
      "feature_group_number: 50, feature_weight_nummber: 5 Done!, accuracy: 0.68\n"
     ]
    }
   ],
   "source": [
    "cvfw_update.set(feature_group_number = [10, 50], feature_weight_number = [5])\n",
    "cvfw_update.update()"
   ]
  },
  {
   "cell_type": "code",
   "execution_count": 37,
   "id": "ab6ffff6",
   "metadata": {},
   "outputs": [
    {
     "name": "stdout",
     "output_type": "stream",
     "text": [
      "feature_group_number: 7, feature_weight_nummber: 5 Done!, accuracy: 0.748\n"
     ]
    }
   ],
   "source": [
    "cvfw_update.set(feature_group_number = [7], feature_weight_number = [5])\n",
    "cvfw_update.update()"
   ]
  },
  {
   "cell_type": "markdown",
   "id": "83865eb7",
   "metadata": {},
   "source": [
    "### 최적의 feature_group_number, feature_weight_number\n",
    "- feature_group_number: 7\n",
    "- feature_weight_number: 5\n",
    "- accuracy: 74.8%"
   ]
  },
  {
   "cell_type": "code",
   "execution_count": 32,
   "id": "8fcef8e9",
   "metadata": {},
   "outputs": [
    {
     "name": "stderr",
     "output_type": "stream",
     "text": [
      "female face: 100%|████████████████████████████████████████████████████████████████| 4096/4096 [00:16<00:00, 241.64it/s]\n",
      "male face: 100%|██████████████████████████████████████████████████████████████████| 4096/4096 [00:17<00:00, 233.44it/s]\n"
     ]
    }
   ],
   "source": [
    "model = CVFW_MODEL(dsize=(64, 64), feature_group_number = 7, feature_weight_number = 5)\n",
    "\n",
    "model.add_directory(class_name=\"female face\", path=\"C:\\\\kimdonghwan\\\\python\\\\CVFW\\\\image\\\\train\\\\face\\\\femaleface\")\n",
    "model.add_directory(class_name=\"male face\", path=\"C:\\\\kimdonghwan\\\\python\\\\CVFW\\\\image\\\\train\\\\face\\\\maleface\")\n",
    "\n",
    "model.train()"
   ]
  },
  {
   "cell_type": "code",
   "execution_count": 41,
   "id": "69b2ea34",
   "metadata": {},
   "outputs": [
    {
     "name": "stdout",
     "output_type": "stream",
     "text": [
      "0.748\n"
     ]
    },
    {
     "data": {
      "text/plain": [
       "<matplotlib.legend.Legend at 0x1a115105790>"
      ]
     },
     "execution_count": 41,
     "metadata": {},
     "output_type": "execute_result"
    },
    {
     "data": {
      "image/png": "[encoded data removed]",
      "text/plain": [
       "<Figure size 432x288 with 1 Axes>"
      ]
     },
     "metadata": {
      "needs_background": "light"
     },
     "output_type": "display_data"
    }
   ],
   "source": [
    "from os import listdir\n",
    "import cv2\n",
    "\n",
    "count = 0\n",
    "answer = 0\n",
    "\n",
    "female_files = listdir(\"C:\\\\kimdonghwan\\\\python\\\\CVFW\\\\image\\\\test\\\\face\\\\femaleface\")\n",
    "male_files = listdir(\"C:\\\\kimdonghwan\\\\python\\\\CVFW\\\\image\\\\test\\\\face\\\\maleface\")\n",
    "\n",
    "predicts = []\n",
    "\n",
    "for file in female_files:\n",
    "    img = cv2.cvtColor(cv2.imread(f\"C:\\\\kimdonghwan\\\\python\\\\CVFW\\\\image\\\\test\\\\face\\\\femaleface\\\\{file}\", 1), cv2.COLOR_BGR2GRAY)\n",
    "    img = cv2.resize(img, dsize=(64, 64)).flatten().tolist()\n",
    "    predict = model.predict_class(img)\n",
    "    predicts.append(predict)\n",
    "    \n",
    "    if min(predict) == predict[0]: answer += 1\n",
    "    count += 1\n",
    "    \n",
    "for file in male_files:\n",
    "    img = cv2.cvtColor(cv2.imread(f\"C:\\\\kimdonghwan\\\\python\\\\CVFW\\\\image\\\\test\\\\face\\\\maleface\\\\{file}\", 1), cv2.COLOR_BGR2GRAY)\n",
    "    img = cv2.resize(img, dsize=(64, 64)).flatten().tolist()\n",
    "    predict = model.predict_class(img)\n",
    "    predicts.append(predict)\n",
    "    \n",
    "    if min(predict) == predict[1]: answer += 1\n",
    "    count += 1\n",
    "\n",
    "print(answer / count)\n",
    "\n",
    "x = [i for i in range(len(predicts))]\n",
    "female_y = [i[0] for i in predicts]\n",
    "male_y = [i[1] for i in predicts]\n",
    "\n",
    "plt.scatter(x, female_y, color=\"red\", label=\"female\", alpha=0.8)\n",
    "plt.scatter(x, male_y, color=\"blue\", label=\"male\", alpha=0.8)\n",
    "plt.ylim(0, 1.0)\n",
    "plt.title(\"predict class\")\n",
    "plt.legend()"
   ]
  },
  {
   "cell_type": "code",
   "execution_count": 98,
   "id": "c04e3fd3",
   "metadata": {},
   "outputs": [
    {
     "name": "stdout",
     "output_type": "stream",
     "text": [
      "[0.4758952121383421, 0.5241047878616579]\n"
     ]
    },
    {
     "data": {
      "image/png": "[encoded data removed]",
      "text/plain": [
       "<Figure size 432x288 with 1 Axes>"
      ]
     },
     "metadata": {
      "needs_background": "light"
     },
     "output_type": "display_data"
    }
   ],
   "source": [
    "female_img = cv2.cvtColor(cv2.imread(\"C:\\\\kimdonghwan\\\\python\\\\CVFW\\\\image\\\\test\\\\face\\\\femaleface\\\\ (1).jpg\", 1), cv2.COLOR_BGR2GRAY)\n",
    "female_img = cv2.resize(female_img, dsize=(64, 64))\n",
    "\n",
    "plt.imshow(female_img, cmap=\"gray\")\n",
    "print(model.predict_class(female_img.flatten().tolist()))"
   ]
  },
  {
   "cell_type": "code",
   "execution_count": 104,
   "id": "a631d926",
   "metadata": {},
   "outputs": [
    {
     "name": "stdout",
     "output_type": "stream",
     "text": [
      "[0.5453794190607248, 0.45462058093927504]\n"
     ]
    },
    {
     "data": {
      "image/png": "[encoded data removed]",
      "text/plain": [
       "<Figure size 432x288 with 1 Axes>"
      ]
     },
     "metadata": {
      "needs_background": "light"
     },
     "output_type": "display_data"
    }
   ],
   "source": [
    "male_img = cv2.cvtColor(cv2.imread(\"C:\\\\kimdonghwan\\\\python\\\\CVFW\\\\image\\\\test\\\\face\\\\maleface\\\\ (4).jpg\", 1), cv2.COLOR_BGR2GRAY)\n",
    "male_img = cv2.resize(male_img, dsize=(64, 64))\n",
    "\n",
    "plt.imshow(male_img, cmap=\"gray\")\n",
    "print(model.predict_class(male_img.flatten().tolist()))"
   ]
  }
 ],
 "metadata": {
  "kernelspec": {
   "display_name": "Python 3",
   "language": "python",
   "name": "python3"
  },
  "language_info": {
   "codemirror_mode": {
    "name": "ipython",
    "version": 3
   },
   "file_extension": ".py",
   "mimetype": "text/x-python",
   "name": "python",
   "nbconvert_exporter": "python",
   "pygments_lexer": "ipython3",
   "version": "3.8.6"
  }
 },
 "nbformat": 4,
 "nbformat_minor": 5
}
