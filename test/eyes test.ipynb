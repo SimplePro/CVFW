{
 "cells": [
  {
   "cell_type": "code",
   "execution_count": 1,
   "id": "fa302172",
   "metadata": {},
   "outputs": [],
   "source": [
    "from cvfwVer2 import CVFW_MODEL, CVFW_UPDATE\n",
    "\n",
    "cvfw_model = CVFW_MODEL(dsize=(100, 100))\n",
    "\n",
    "cvfw_model.add_directory(class_name=\"female eyes\", path=\"C:\\\\kimdonghwan\\\\python\\\\CVFW\\\\image\\\\train\\\\eyes\\\\femaleeyes\")\n",
    "cvfw_model.add_directory(class_name=\"male eyes\", path=\"C:\\\\kimdonghwan\\\\python\\\\CVFW\\\\image\\\\train\\\\eyes\\\\maleeyes\")"
   ]
  },
  {
   "cell_type": "code",
   "execution_count": 2,
   "id": "f5ae82a6",
   "metadata": {},
   "outputs": [
    {
     "name": "stderr",
     "output_type": "stream",
     "text": [
      "female eyes: 100%|██████████████████████████████████████████████████████████████| 10000/10000 [00:12<00:00, 817.20it/s]\n",
      "male eyes: 100%|████████████████████████████████████████████████████████████████| 10000/10000 [00:17<00:00, 586.46it/s]\n"
     ]
    }
   ],
   "source": [
    "cvfw_model.train()"
   ]
  },
  {
   "cell_type": "code",
   "execution_count": 3,
   "id": "82c7d0fd",
   "metadata": {},
   "outputs": [
    {
     "name": "stdout",
     "output_type": "stream",
     "text": [
      "627\n",
      "845\n"
     ]
    }
   ],
   "source": [
    "from os import listdir\n",
    "\n",
    "print(len(listdir(\"C:\\\\kimdonghwan\\\\python\\\\CVFW\\\\image\\\\train\\\\eyes\\\\femaleeyes\")))\n",
    "print(len(listdir(\"C:\\\\kimdonghwan\\\\python\\\\CVFW\\\\image\\\\train\\\\eyes\\\\maleeyes\")))"
   ]
  },
  {
   "cell_type": "code",
   "execution_count": 4,
   "id": "0e72f657",
   "metadata": {},
   "outputs": [],
   "source": [
    "cvfw_update = CVFW_UPDATE(cvfw_model, feature_group_number=[100, 500], feature_weight_number=[30, 50])\n",
    "cvfw_update.add_validation(class_name=\"female face\", path = \"./image/test/face/femaleface\")\n",
    "cvfw_update.add_validation(class_name=\"male face\", path = \"./image/test/face/maleface\")"
   ]
  },
  {
   "cell_type": "code",
   "execution_count": 5,
   "id": "945a2f6a",
   "metadata": {},
   "outputs": [
    {
     "name": "stdout",
     "output_type": "stream",
     "text": [
      "feature_group_number: 100, feature_weight_nummber: 30 Done!, accuracy: 0.3545816733067729\n",
      "feature_group_number: 100, feature_weight_nummber: 50 Done!, accuracy: 0.3545816733067729\n",
      "feature_group_number: 500, feature_weight_nummber: 30 Done!, accuracy: 0.3545816733067729\n",
      "feature_group_number: 500, feature_weight_nummber: 50 Done!, accuracy: 0.3545816733067729\n"
     ]
    }
   ],
   "source": [
    "cvfw_update.update()"
   ]
  },
  {
   "cell_type": "code",
   "execution_count": 6,
   "id": "c04570c1",
   "metadata": {},
   "outputs": [
    {
     "name": "stdout",
     "output_type": "stream",
     "text": [
      "feature_group_number: 900, feature_weight_nummber: 0 Done!, accuracy: 0.5298804780876494\n"
     ]
    }
   ],
   "source": [
    "cvfw_update.set(feature_group_number = [900], feature_weight_number = [0])\n",
    "cvfw_update.update()"
   ]
  },
  {
   "cell_type": "code",
   "execution_count": 7,
   "id": "32089cbd",
   "metadata": {},
   "outputs": [
    {
     "name": "stdout",
     "output_type": "stream",
     "text": [
      "feature_group_number: 900, feature_weight_nummber: 50 Done!, accuracy: 0.3545816733067729\n"
     ]
    }
   ],
   "source": [
    "cvfw_update.set(feature_group_number = [900], feature_weight_number = [50])\n",
    "cvfw_update.update()"
   ]
  },
  {
   "cell_type": "code",
   "execution_count": 8,
   "id": "2704de52",
   "metadata": {},
   "outputs": [
    {
     "name": "stdout",
     "output_type": "stream",
     "text": [
      "feature_group_number: 500, feature_weight_nummber: 0 Done!, accuracy: 0.5298804780876494\n"
     ]
    }
   ],
   "source": [
    "cvfw_update.set(feature_group_number = [500], feature_weight_number = [0])\n",
    "cvfw_update.update()"
   ]
  },
  {
   "cell_type": "code",
   "execution_count": 9,
   "id": "2ea488a8",
   "metadata": {},
   "outputs": [
    {
     "name": "stdout",
     "output_type": "stream",
     "text": [
      "feature_group_number: 300, feature_weight_nummber: 0 Done!, accuracy: 0.5298804780876494\n"
     ]
    }
   ],
   "source": [
    "cvfw_update.set(feature_group_number = [300], feature_weight_number = [0])\n",
    "cvfw_update.update()"
   ]
  },
  {
   "cell_type": "code",
   "execution_count": 10,
   "id": "84e7f322",
   "metadata": {},
   "outputs": [
    {
     "name": "stdout",
     "output_type": "stream",
     "text": [
      "feature_group_number: 200, feature_weight_nummber: 0 Done!, accuracy: 0.5298804780876494\n"
     ]
    }
   ],
   "source": [
    "cvfw_update.set(feature_group_number = [200], feature_weight_number = [0])\n",
    "cvfw_update.update()"
   ]
  }
 ],
 "metadata": {
  "kernelspec": {
   "display_name": "Python 3",
   "language": "python",
   "name": "python3"
  },
  "language_info": {
   "codemirror_mode": {
    "name": "ipython",
    "version": 3
   },
   "file_extension": ".py",
   "mimetype": "text/x-python",
   "name": "python",
   "nbconvert_exporter": "python",
   "pygments_lexer": "ipython3",
   "version": "3.8.6"
  }
 },
 "nbformat": 4,
 "nbformat_minor": 5
}
