{
 "cells": [
  {
   "cell_type": "code",
   "execution_count": 2,
   "id": "fa302172",
   "metadata": {},
   "outputs": [],
   "source": [
    "from cvfwVer2 import CVFW_MODEL, CVFW_UPDATE\n",
    "\n",
    "cvfw_model = CVFW_MODEL(dsize=(64, 64))\n",
    "\n",
    "cvfw_model.add_directory(class_name=\"female eyes\", path=\"C:\\\\kimdonghwan\\\\python\\\\CVFW\\\\image\\\\train\\\\eyes\\\\femaleeyes\")\n",
    "cvfw_model.add_directory(class_name=\"male eyes\", path=\"C:\\\\kimdonghwan\\\\python\\\\CVFW\\\\image\\\\train\\\\eyes\\\\maleeyes\")"
   ]
  },
  {
   "cell_type": "code",
   "execution_count": 3,
   "id": "f5ae82a6",
   "metadata": {
    "scrolled": true
   },
   "outputs": [
    {
     "name": "stderr",
     "output_type": "stream",
     "text": [
      "female eyes: 100%|████████████████████████████████████████████████████████████████| 4096/4096 [00:15<00:00, 262.34it/s]\n",
      "male eyes: 100%|██████████████████████████████████████████████████████████████████| 4096/4096 [00:15<00:00, 257.79it/s]\n"
     ]
    }
   ],
   "source": [
    "cvfw_model.train()"
   ]
  },
  {
   "cell_type": "code",
   "execution_count": 4,
   "id": "d58f941c",
   "metadata": {},
   "outputs": [
    {
     "data": {
      "text/plain": [
       "<matplotlib.image.AxesImage at 0x1dd92957be0>"
      ]
     },
     "execution_count": 4,
     "metadata": {},
     "output_type": "execute_result"
    },
    {
     "data": {
      "image/png": "[encoded data removed]",
      "text/plain": [
       "<Figure size 432x288 with 1 Axes>"
      ]
     },
     "metadata": {
      "needs_background": "light"
     },
     "output_type": "display_data"
    }
   ],
   "source": [
    "import matplotlib.pyplot as plt\n",
    "\n",
    "modeling = cvfw_model.modeling(class_name = \"female eyes\")\n",
    "plt.imshow(modeling, cmap=\"gray\")"
   ]
  },
  {
   "cell_type": "code",
   "execution_count": 5,
   "id": "73b043ad",
   "metadata": {},
   "outputs": [
    {
     "data": {
      "text/plain": [
       "<matplotlib.image.AxesImage at 0x1dd92a635b0>"
      ]
     },
     "execution_count": 5,
     "metadata": {},
     "output_type": "execute_result"
    },
    {
     "data": {
      "image/png": "[encoded data removed]",
      "text/plain": [
       "<Figure size 432x288 with 1 Axes>"
      ]
     },
     "metadata": {
      "needs_background": "light"
     },
     "output_type": "display_data"
    }
   ],
   "source": [
    "import matplotlib.pyplot as plt\n",
    "\n",
    "modeling = cvfw_model.modeling(class_name = \"male eyes\")\n",
    "plt.imshow(modeling, cmap=\"gray\")"
   ]
  },
  {
   "cell_type": "code",
   "execution_count": 7,
   "id": "0e72f657",
   "metadata": {},
   "outputs": [],
   "source": [
    "cvfw_update = CVFW_UPDATE(cvfw_model, feature_group_number=[100, 500], feature_weight_number=[30, 50])\n",
    "cvfw_update.add_validation(class_name=\"female face\", path = \"C:/kimdonghwan/python/CVFW/image/test/face/femaleface\")\n",
    "cvfw_update.add_validation(class_name=\"male face\", path = \"C:/kimdonghwan/python/CVFW/image/test/face/maleface\")"
   ]
  },
  {
   "cell_type": "code",
   "execution_count": 8,
   "id": "945a2f6a",
   "metadata": {},
   "outputs": [
    {
     "name": "stdout",
     "output_type": "stream",
     "text": [
      "feature_group_number: 100, feature_weight_nummber: 30 Done!, accuracy: 0.488\n",
      "feature_group_number: 100, feature_weight_nummber: 50 Done!, accuracy: 0.46\n",
      "feature_group_number: 500, feature_weight_nummber: 30 Done!, accuracy: 0.488\n",
      "feature_group_number: 500, feature_weight_nummber: 50 Done!, accuracy: 0.46\n"
     ]
    }
   ],
   "source": [
    "cvfw_update.update()"
   ]
  },
  {
   "cell_type": "code",
   "execution_count": 9,
   "id": "01d71814",
   "metadata": {},
   "outputs": [
    {
     "name": "stdout",
     "output_type": "stream",
     "text": [
      "feature_group_number: 100, feature_weight_nummber: 100 Done!, accuracy: 0.452\n",
      "feature_group_number: 100, feature_weight_nummber: 150 Done!, accuracy: 0.472\n",
      "feature_group_number: 100, feature_weight_nummber: 200 Done!, accuracy: 0.504\n"
     ]
    }
   ],
   "source": [
    "cvfw_update.set(feature_group_number = [100], feature_weight_number = [100, 150, 200])\n",
    "cvfw_update.update()"
   ]
  },
  {
   "cell_type": "code",
   "execution_count": 10,
   "id": "585260a0",
   "metadata": {},
   "outputs": [
    {
     "name": "stdout",
     "output_type": "stream",
     "text": [
      "feature_group_number: 30, feature_weight_nummber: 300 Done!, accuracy: 0.492\n",
      "feature_group_number: 30, feature_weight_nummber: 400 Done!, accuracy: 0.494\n",
      "feature_group_number: 30, feature_weight_nummber: 500 Done!, accuracy: 0.504\n"
     ]
    }
   ],
   "source": [
    "cvfw_update.set(feature_group_number = [30], feature_weight_number = [300, 400, 500])\n",
    "cvfw_update.update()"
   ]
  },
  {
   "cell_type": "code",
   "execution_count": 11,
   "id": "af2caf3f",
   "metadata": {},
   "outputs": [
    {
     "name": "stdout",
     "output_type": "stream",
     "text": [
      "feature_group_number: 20, feature_weight_nummber: 600 Done!, accuracy: 0.486\n",
      "feature_group_number: 20, feature_weight_nummber: 700 Done!, accuracy: 0.49\n",
      "feature_group_number: 20, feature_weight_nummber: 800 Done!, accuracy: 0.47\n"
     ]
    }
   ],
   "source": [
    "cvfw_update.set(feature_group_number = [20], feature_weight_number = [600, 700, 800])\n",
    "cvfw_update.update()"
   ]
  },
  {
   "cell_type": "code",
   "execution_count": 12,
   "id": "c04570c1",
   "metadata": {},
   "outputs": [
    {
     "name": "stdout",
     "output_type": "stream",
     "text": [
      "feature_group_number: 900, feature_weight_nummber: 0 Done!, accuracy: 0.556\n"
     ]
    }
   ],
   "source": [
    "cvfw_update.set(feature_group_number = [900], feature_weight_number = [0])\n",
    "cvfw_update.update()"
   ]
  },
  {
   "cell_type": "code",
   "execution_count": 13,
   "id": "32089cbd",
   "metadata": {},
   "outputs": [
    {
     "name": "stdout",
     "output_type": "stream",
     "text": [
      "feature_group_number: 800, feature_weight_nummber: 0 Done!, accuracy: 0.556\n",
      "feature_group_number: 1000, feature_weight_nummber: 0 Done!, accuracy: 0.556\n"
     ]
    }
   ],
   "source": [
    "cvfw_update.set(feature_group_number = [800, 1000], feature_weight_number = [0])\n",
    "cvfw_update.update()"
   ]
  },
  {
   "cell_type": "code",
   "execution_count": 15,
   "id": "cd5c7808",
   "metadata": {},
   "outputs": [
    {
     "name": "stdout",
     "output_type": "stream",
     "text": [
      "feature_group_number: 200, feature_weight_nummber: 0 Done!, accuracy: 0.556\n"
     ]
    }
   ],
   "source": [
    "cvfw_update.set(feature_group_number = [200], feature_weight_number = [0])\n",
    "cvfw_update.update()"
   ]
  },
  {
   "cell_type": "markdown",
   "id": "a968b074",
   "metadata": {},
   "source": [
    "- feature_group_number: 200\n",
    "- feature_weight_number: 0\n",
    "- accuracy: 55.6%"
   ]
  }
 ],
 "metadata": {
  "kernelspec": {
   "display_name": "Python 3",
   "language": "python",
   "name": "python3"
  },
  "language_info": {
   "codemirror_mode": {
    "name": "ipython",
    "version": 3
   },
   "file_extension": ".py",
   "mimetype": "text/x-python",
   "name": "python",
   "nbconvert_exporter": "python",
   "pygments_lexer": "ipython3",
   "version": "3.8.6"
  }
 },
 "nbformat": 4,
 "nbformat_minor": 5
}
