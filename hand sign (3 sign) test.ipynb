{
 "cells": [
  {
   "cell_type": "code",
   "execution_count": 1,
   "id": "902d4473",
   "metadata": {},
   "outputs": [],
   "source": [
    "from cvfwVer2 import CVFW_MODEL, CVFW_UPDATE"
   ]
  },
  {
   "cell_type": "code",
   "execution_count": 2,
   "id": "31fc93d5",
   "metadata": {},
   "outputs": [],
   "source": [
    "hand_model = CVFW_MODEL(dsize=(28, 28))\n",
    "\n",
    "hand_model.add_directory(class_name=\"A\", path=\"C:\\\\kimdonghwan\\\\python\\\\CVFW\\\\image\\\\train\\\\hand_sign\\\\A\")\n",
    "hand_model.add_directory(class_name=\"B\", path=\"C:\\\\kimdonghwan\\\\python\\\\CVFW\\\\image\\\\train\\\\hand_sign\\\\B\")\n",
    "hand_model.add_directory(class_name=\"C\", path=\"C:\\\\kimdonghwan\\\\python\\\\CVFW\\\\image\\\\train\\\\hand_sign\\\\C\")"
   ]
  },
  {
   "cell_type": "code",
   "execution_count": 3,
   "id": "db1787cc",
   "metadata": {},
   "outputs": [
    {
     "name": "stderr",
     "output_type": "stream",
     "text": [
      "A: 100%|████████████████████████████████████████████████████████████████████████████| 784/784 [00:01<00:00, 399.28it/s]\n",
      "B: 100%|████████████████████████████████████████████████████████████████████████████| 784/784 [00:01<00:00, 458.11it/s]\n",
      "C: 100%|████████████████████████████████████████████████████████████████████████████| 784/784 [00:02<00:00, 391.86it/s]\n"
     ]
    }
   ],
   "source": [
    "hand_model.train()"
   ]
  },
  {
   "cell_type": "code",
   "execution_count": 4,
   "id": "74a306ff",
   "metadata": {},
   "outputs": [
    {
     "name": "stdout",
     "output_type": "stream",
     "text": [
      "feature_group_number: 10, feature_weight_nummber: 18 Done!, accuracy: 0.9291705498602051\n"
     ]
    }
   ],
   "source": [
    "hand_update = CVFW_UPDATE(hand_model, feature_group_number = [10], feature_weight_number = [18])\n",
    "hand_update.add_validation(class_name=\"A\", path=\"C:\\\\kimdonghwan\\\\python\\\\CVFW\\\\image\\\\test\\\\hand_sign\\\\A\")\n",
    "hand_update.add_validation(class_name=\"B\", path=\"C:\\\\kimdonghwan\\\\python\\\\CVFW\\\\image\\\\test\\\\hand_sign\\\\B\")\n",
    "hand_update.add_validation(class_name=\"C\", path=\"C:\\\\kimdonghwan\\\\python\\\\CVFW\\\\image\\\\test\\\\hand_sign\\\\C\")\n",
    "hand_update.update()"
   ]
  },
  {
   "cell_type": "code",
   "execution_count": 5,
   "id": "65c22803",
   "metadata": {},
   "outputs": [
    {
     "name": "stderr",
     "output_type": "stream",
     "text": [
      "A: 100%|████████████████████████████████████████████████████████████████████████████| 784/784 [00:02<00:00, 368.95it/s]\n",
      "B: 100%|████████████████████████████████████████████████████████████████████████████| 784/784 [00:01<00:00, 427.65it/s]\n",
      "C: 100%|████████████████████████████████████████████████████████████████████████████| 784/784 [00:02<00:00, 371.85it/s]\n"
     ]
    }
   ],
   "source": [
    "hand_model = CVFW_MODEL(dsize=(28, 28), feature_group_number = 10, feature_weight_number = 18)\n",
    "\n",
    "hand_model.add_directory(class_name=\"A\", path=\"C:\\\\kimdonghwan\\\\python\\\\CVFW\\\\image\\\\train\\\\hand_sign\\\\A\")\n",
    "hand_model.add_directory(class_name=\"B\", path=\"C:\\\\kimdonghwan\\\\python\\\\CVFW\\\\image\\\\train\\\\hand_sign\\\\B\")\n",
    "hand_model.add_directory(class_name=\"C\", path=\"C:\\\\kimdonghwan\\\\python\\\\CVFW\\\\image\\\\train\\\\hand_sign\\\\C\")\n",
    "\n",
    "hand_model.train()"
   ]
  },
  {
   "cell_type": "markdown",
   "id": "0990923e",
   "metadata": {},
   "source": [
    "### 결론\n",
    "- accuracy: 92.91705498602051%"
   ]
  }
 ],
 "metadata": {
  "kernelspec": {
   "display_name": "Python 3",
   "language": "python",
   "name": "python3"
  },
  "language_info": {
   "codemirror_mode": {
    "name": "ipython",
    "version": 3
   },
   "file_extension": ".py",
   "mimetype": "text/x-python",
   "name": "python",
   "nbconvert_exporter": "python",
   "pygments_lexer": "ipython3",
   "version": "3.8.6"
  }
 },
 "nbformat": 4,
 "nbformat_minor": 5
}
